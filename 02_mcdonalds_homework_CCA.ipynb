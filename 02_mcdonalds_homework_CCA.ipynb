{
 "cells": [
  {
   "cell_type": "markdown",
   "metadata": {},
   "source": [
    "# Homework with McDonald's sentiment data"
   ]
  },
  {
   "cell_type": "markdown",
   "metadata": {},
   "source": [
    "## Imaginary problem statement\n",
    "\n",
    "McDonald's receives **thousands of customer comments** on their website per day, and many of them are negative. Their corporate employees don't have time to read every single comment, but they do want to read a subset of comments that they are most interested in. In particular, the media has recently portrayed their employees as being rude, and so they want to review any comments about **rude service** so that they can update their employee training accordingly.\n",
    "\n",
    "McDonald's has hired you to develop a system that ranks each comment by the **likelihood that it is referring to rude service**. They will use your system to build a \"rudeness dashboard\" for their corporate employees, so that employees can spend a few minutes each day examining the **most relevant recent comments**.\n",
    "\n",
    "## Description of the data\n",
    "\n",
    "Before hiring you, McDonald's used the [CrowdFlower platform](http://www.crowdflower.com/data-for-everyone) to pay humans to **hand-annotate** about 1500 comments with the **type of complaint**. The complaint types are listed below, with the encoding used in the data listed in parentheses:\n",
    "\n",
    "- Bad Food (BadFood)\n",
    "- Bad Neighborhood (ScaryMcDs)\n",
    "- Cost (Cost)\n",
    "- Dirty Location (Filthy)\n",
    "- Missing Item (MissingFood)\n",
    "- Problem with Order (OrderProblem)\n",
    "- Rude Service (RudeService)\n",
    "- Slow Service (SlowService)\n",
    "- None of the above (na)"
   ]
  },
  {
   "cell_type": "markdown",
   "metadata": {},
   "source": [
    "## Task 1\n",
    "\n",
    "Read **`mcdonalds.csv`** into a pandas DataFrame and examine it. (It can be found in the **`data`** directory of the course repository.)\n",
    "\n",
    "- The **policies_violated** column lists the type of complaint. If there is more than one type, the types are separated by newline characters.\n",
    "- The **policies_violated:confidence** column lists CrowdFlower's confidence in the judgments of its human annotators for that row (higher is better).\n",
    "- The **city** column is the McDonald's location.\n",
    "- The **review** column is the actual text comment."
   ]
  },
  {
   "cell_type": "code",
   "execution_count": 6,
   "metadata": {
    "collapsed": false
   },
   "outputs": [],
   "source": [
    "import os\n",
    "os.getcwd()\n",
    "os.chdir('../data')"
   ]
  },
  {
   "cell_type": "code",
   "execution_count": 7,
   "metadata": {
    "collapsed": false
   },
   "outputs": [],
   "source": [
    "# Create reviews DF variable using the pandas module\n",
    "import pandas as pd\n",
    "import numpy as np\n",
    "#reviews = pd.read_csv('https://raw.githubusercontent.com/dataschool/MLtext2/master/data/mcdonalds.csv?token=AEv2W3S4vnWOwd7_SPsDLm0vPldKtzwbks5XJpuIwA%3D%3D')\n",
    "reviews = pd.read_csv('mcdonalds.csv')"
   ]
  },
  {
   "cell_type": "code",
   "execution_count": 8,
   "metadata": {
    "collapsed": false
   },
   "outputs": [
    {
     "name": "stdout",
     "output_type": "stream",
     "text": [
      "(1525, 11)\n"
     ]
    },
    {
     "data": {
      "text/html": [
       "<div>\n",
       "<table border=\"1\" class=\"dataframe\">\n",
       "  <thead>\n",
       "    <tr style=\"text-align: right;\">\n",
       "      <th></th>\n",
       "      <th>_unit_id</th>\n",
       "      <th>_golden</th>\n",
       "      <th>_unit_state</th>\n",
       "      <th>_trusted_judgments</th>\n",
       "      <th>_last_judgment_at</th>\n",
       "      <th>policies_violated</th>\n",
       "      <th>policies_violated:confidence</th>\n",
       "      <th>city</th>\n",
       "      <th>policies_violated_gold</th>\n",
       "      <th>review</th>\n",
       "      <th>Unnamed: 10</th>\n",
       "    </tr>\n",
       "  </thead>\n",
       "  <tbody>\n",
       "    <tr>\n",
       "      <th>0</th>\n",
       "      <td>679455653</td>\n",
       "      <td>False</td>\n",
       "      <td>finalized</td>\n",
       "      <td>3</td>\n",
       "      <td>2/21/15 0:36</td>\n",
       "      <td>RudeService\\nOrderProblem\\nFilthy</td>\n",
       "      <td>1.0\\n0.6667\\n0.6667</td>\n",
       "      <td>Atlanta</td>\n",
       "      <td>NaN</td>\n",
       "      <td>I'm not a huge mcds lover, but I've been to be...</td>\n",
       "      <td>NaN</td>\n",
       "    </tr>\n",
       "    <tr>\n",
       "      <th>1</th>\n",
       "      <td>679455654</td>\n",
       "      <td>False</td>\n",
       "      <td>finalized</td>\n",
       "      <td>3</td>\n",
       "      <td>2/21/15 0:27</td>\n",
       "      <td>RudeService</td>\n",
       "      <td>1</td>\n",
       "      <td>Atlanta</td>\n",
       "      <td>NaN</td>\n",
       "      <td>Terrible customer service. ŒæI came in at 9:30...</td>\n",
       "      <td>NaN</td>\n",
       "    </tr>\n",
       "    <tr>\n",
       "      <th>2</th>\n",
       "      <td>679455655</td>\n",
       "      <td>False</td>\n",
       "      <td>finalized</td>\n",
       "      <td>3</td>\n",
       "      <td>2/21/15 0:26</td>\n",
       "      <td>SlowService\\nOrderProblem</td>\n",
       "      <td>1.0\\n1.0</td>\n",
       "      <td>Atlanta</td>\n",
       "      <td>NaN</td>\n",
       "      <td>First they \"lost\" my order, actually they gave...</td>\n",
       "      <td>NaN</td>\n",
       "    </tr>\n",
       "  </tbody>\n",
       "</table>\n",
       "</div>"
      ],
      "text/plain": [
       "    _unit_id _golden _unit_state  _trusted_judgments _last_judgment_at  \\\n",
       "0  679455653   False   finalized                   3      2/21/15 0:36   \n",
       "1  679455654   False   finalized                   3      2/21/15 0:27   \n",
       "2  679455655   False   finalized                   3      2/21/15 0:26   \n",
       "\n",
       "                   policies_violated policies_violated:confidence     city  \\\n",
       "0  RudeService\\nOrderProblem\\nFilthy          1.0\\n0.6667\\n0.6667  Atlanta   \n",
       "1                        RudeService                            1  Atlanta   \n",
       "2          SlowService\\nOrderProblem                     1.0\\n1.0  Atlanta   \n",
       "\n",
       "   policies_violated_gold                                             review  \\\n",
       "0                     NaN  I'm not a huge mcds lover, but I've been to be...   \n",
       "1                     NaN  Terrible customer service. ŒæI came in at 9:30...   \n",
       "2                     NaN  First they \"lost\" my order, actually they gave...   \n",
       "\n",
       "   Unnamed: 10  \n",
       "0          NaN  \n",
       "1          NaN  \n",
       "2          NaN  "
      ]
     },
     "execution_count": 8,
     "metadata": {},
     "output_type": "execute_result"
    }
   ],
   "source": [
    "# Examine the shape and the first few rows\n",
    "print reviews.shape\n",
    "reviews.head(3)"
   ]
  },
  {
   "cell_type": "code",
   "execution_count": 9,
   "metadata": {
    "collapsed": false
   },
   "outputs": [
    {
     "data": {
      "text/html": [
       "<div>\n",
       "<table border=\"1\" class=\"dataframe\">\n",
       "  <thead>\n",
       "    <tr style=\"text-align: right;\">\n",
       "      <th></th>\n",
       "      <th>_unit_id</th>\n",
       "      <th>_golden</th>\n",
       "      <th>_unit_state</th>\n",
       "      <th>_trusted_judgments</th>\n",
       "      <th>_last_judgment_at</th>\n",
       "      <th>policies_violated</th>\n",
       "      <th>policies_violated:confidence</th>\n",
       "      <th>city</th>\n",
       "      <th>policies_violated_gold</th>\n",
       "      <th>review</th>\n",
       "      <th>Unnamed: 10</th>\n",
       "    </tr>\n",
       "  </thead>\n",
       "  <tbody>\n",
       "    <tr>\n",
       "      <th>1522</th>\n",
       "      <td>679500608</td>\n",
       "      <td>False</td>\n",
       "      <td>finalized</td>\n",
       "      <td>3</td>\n",
       "      <td>2/21/15 0:24</td>\n",
       "      <td>ScaryMcDs</td>\n",
       "      <td>0.6458</td>\n",
       "      <td>New York</td>\n",
       "      <td>NaN</td>\n",
       "      <td>When I am really craving for McDonald's, this ...</td>\n",
       "      <td>NaN</td>\n",
       "    </tr>\n",
       "    <tr>\n",
       "      <th>1523</th>\n",
       "      <td>679501257</td>\n",
       "      <td>False</td>\n",
       "      <td>finalized</td>\n",
       "      <td>3</td>\n",
       "      <td>2/21/15 0:32</td>\n",
       "      <td>ScaryMcDs</td>\n",
       "      <td>0.6407</td>\n",
       "      <td>Chicago</td>\n",
       "      <td>NaN</td>\n",
       "      <td>Two points right out of the gate: 1. Thuggery ...</td>\n",
       "      <td>NaN</td>\n",
       "    </tr>\n",
       "    <tr>\n",
       "      <th>1524</th>\n",
       "      <td>679501402</td>\n",
       "      <td>False</td>\n",
       "      <td>finalized</td>\n",
       "      <td>3</td>\n",
       "      <td>2/21/15 0:27</td>\n",
       "      <td>ScaryMcDs\\nSlowService</td>\n",
       "      <td>1.0\\n0.6667</td>\n",
       "      <td>Los Angeles</td>\n",
       "      <td>NaN</td>\n",
       "      <td>I wanted to grab breakfast one morning before ...</td>\n",
       "      <td>NaN</td>\n",
       "    </tr>\n",
       "  </tbody>\n",
       "</table>\n",
       "</div>"
      ],
      "text/plain": [
       "       _unit_id _golden _unit_state  _trusted_judgments _last_judgment_at  \\\n",
       "1522  679500608   False   finalized                   3      2/21/15 0:24   \n",
       "1523  679501257   False   finalized                   3      2/21/15 0:32   \n",
       "1524  679501402   False   finalized                   3      2/21/15 0:27   \n",
       "\n",
       "           policies_violated policies_violated:confidence         city  \\\n",
       "1522               ScaryMcDs                       0.6458     New York   \n",
       "1523               ScaryMcDs                       0.6407      Chicago   \n",
       "1524  ScaryMcDs\\nSlowService                  1.0\\n0.6667  Los Angeles   \n",
       "\n",
       "      policies_violated_gold  \\\n",
       "1522                     NaN   \n",
       "1523                     NaN   \n",
       "1524                     NaN   \n",
       "\n",
       "                                                 review  Unnamed: 10  \n",
       "1522  When I am really craving for McDonald's, this ...          NaN  \n",
       "1523  Two points right out of the gate: 1. Thuggery ...          NaN  \n",
       "1524  I wanted to grab breakfast one morning before ...          NaN  "
      ]
     },
     "execution_count": 9,
     "metadata": {},
     "output_type": "execute_result"
    }
   ],
   "source": [
    "# examine the last few rows\n",
    "reviews.tail(3)"
   ]
  },
  {
   "cell_type": "code",
   "execution_count": 10,
   "metadata": {
    "collapsed": false
   },
   "outputs": [
    {
     "data": {
      "text/html": [
       "<div>\n",
       "<table border=\"1\" class=\"dataframe\">\n",
       "  <thead>\n",
       "    <tr style=\"text-align: right;\">\n",
       "      <th></th>\n",
       "      <th>_unit_id</th>\n",
       "      <th>_trusted_judgments</th>\n",
       "      <th>policies_violated_gold</th>\n",
       "      <th>Unnamed: 10</th>\n",
       "    </tr>\n",
       "  </thead>\n",
       "  <tbody>\n",
       "    <tr>\n",
       "      <th>count</th>\n",
       "      <td>1.525000e+03</td>\n",
       "      <td>1525.0</td>\n",
       "      <td>0.0</td>\n",
       "      <td>0.0</td>\n",
       "    </tr>\n",
       "    <tr>\n",
       "      <th>mean</th>\n",
       "      <td>6.794570e+08</td>\n",
       "      <td>3.0</td>\n",
       "      <td>NaN</td>\n",
       "      <td>NaN</td>\n",
       "    </tr>\n",
       "    <tr>\n",
       "      <th>std</th>\n",
       "      <td>4.492182e+03</td>\n",
       "      <td>0.0</td>\n",
       "      <td>NaN</td>\n",
       "      <td>NaN</td>\n",
       "    </tr>\n",
       "    <tr>\n",
       "      <th>min</th>\n",
       "      <td>6.794557e+08</td>\n",
       "      <td>3.0</td>\n",
       "      <td>NaN</td>\n",
       "      <td>NaN</td>\n",
       "    </tr>\n",
       "    <tr>\n",
       "      <th>25%</th>\n",
       "      <td>6.794560e+08</td>\n",
       "      <td>3.0</td>\n",
       "      <td>NaN</td>\n",
       "      <td>NaN</td>\n",
       "    </tr>\n",
       "    <tr>\n",
       "      <th>50%</th>\n",
       "      <td>6.794564e+08</td>\n",
       "      <td>3.0</td>\n",
       "      <td>NaN</td>\n",
       "      <td>NaN</td>\n",
       "    </tr>\n",
       "    <tr>\n",
       "      <th>75%</th>\n",
       "      <td>6.794568e+08</td>\n",
       "      <td>3.0</td>\n",
       "      <td>NaN</td>\n",
       "      <td>NaN</td>\n",
       "    </tr>\n",
       "    <tr>\n",
       "      <th>max</th>\n",
       "      <td>6.795014e+08</td>\n",
       "      <td>3.0</td>\n",
       "      <td>NaN</td>\n",
       "      <td>NaN</td>\n",
       "    </tr>\n",
       "  </tbody>\n",
       "</table>\n",
       "</div>"
      ],
      "text/plain": [
       "           _unit_id  _trusted_judgments  policies_violated_gold  Unnamed: 10\n",
       "count  1.525000e+03              1525.0                     0.0          0.0\n",
       "mean   6.794570e+08                 3.0                     NaN          NaN\n",
       "std    4.492182e+03                 0.0                     NaN          NaN\n",
       "min    6.794557e+08                 3.0                     NaN          NaN\n",
       "25%    6.794560e+08                 3.0                     NaN          NaN\n",
       "50%    6.794564e+08                 3.0                     NaN          NaN\n",
       "75%    6.794568e+08                 3.0                     NaN          NaN\n",
       "max    6.795014e+08                 3.0                     NaN          NaN"
      ]
     },
     "execution_count": 10,
     "metadata": {},
     "output_type": "execute_result"
    }
   ],
   "source": [
    "# Examine the DF\n",
    "reviews.describe()"
   ]
  },
  {
   "cell_type": "code",
   "execution_count": 11,
   "metadata": {
    "collapsed": false
   },
   "outputs": [
    {
     "name": "stdout",
     "output_type": "stream",
     "text": [
      "<class 'pandas.core.frame.DataFrame'>\n",
      "RangeIndex: 1525 entries, 0 to 1524\n",
      "Data columns (total 11 columns):\n",
      "_unit_id                        1525 non-null int64\n",
      "_golden                         1525 non-null bool\n",
      "_unit_state                     1525 non-null object\n",
      "_trusted_judgments              1525 non-null int64\n",
      "_last_judgment_at               1525 non-null object\n",
      "policies_violated               1471 non-null object\n",
      "policies_violated:confidence    1471 non-null object\n",
      "city                            1438 non-null object\n",
      "policies_violated_gold          0 non-null float64\n",
      "review                          1525 non-null object\n",
      "Unnamed: 10                     0 non-null float64\n",
      "dtypes: bool(1), float64(2), int64(2), object(6)\n",
      "memory usage: 120.7+ KB\n"
     ]
    }
   ],
   "source": [
    "# review details about the features\n",
    "reviews.info()"
   ]
  },
  {
   "cell_type": "code",
   "execution_count": 12,
   "metadata": {
    "collapsed": false
   },
   "outputs": [
    {
     "name": "stdout",
     "output_type": "stream",
     "text": [
      "(146,)\n"
     ]
    },
    {
     "data": {
      "text/plain": [
       "na              295\n",
       "RudeService     177\n",
       "SlowService     127\n",
       "OrderProblem    116\n",
       "BadFood         101\n",
       "Name: policies_violated, dtype: int64"
      ]
     },
     "execution_count": 12,
     "metadata": {},
     "output_type": "execute_result"
    }
   ],
   "source": [
    "# look at the shape of class values and the first few class labels\n",
    "print reviews.policies_violated.value_counts().shape\n",
    "reviews.policies_violated.value_counts().head()"
   ]
  },
  {
   "cell_type": "markdown",
   "metadata": {},
   "source": [
    "## Task 2\n",
    "\n",
    "Remove any rows from the DataFrame in which the **policies_violated** column has a **null value**. Check the shape of the DataFrame before and after to confirm that you only removed about 50 rows.\n",
    "\n",
    "- **Note:** Null values are also known as \"missing values\", and are encoded in pandas with the special value \"NaN\". This is distinct from the \"na\" encoding used by CrowdFlower to denote \"None of the above\". Rows that contain \"na\" should **not** be removed.\n",
    "- **Hint:** This [code snippet](http://chrisalbon.com/python/pandas_missing_data.html) shows different ways for handling missing data in pandas, and includes one strategy that will work for this task."
   ]
  },
  {
   "cell_type": "code",
   "execution_count": 13,
   "metadata": {
    "collapsed": false,
    "scrolled": false
   },
   "outputs": [
    {
     "data": {
      "text/plain": [
       "54"
      ]
     },
     "execution_count": 13,
     "metadata": {},
     "output_type": "execute_result"
    }
   ],
   "source": [
    "bad_rows = reviews.policies_violated.isnull()\n",
    "sum(bad_rows)"
   ]
  },
  {
   "cell_type": "code",
   "execution_count": 14,
   "metadata": {
    "collapsed": false
   },
   "outputs": [],
   "source": [
    "good_rows = [not row for row in bad_rows]"
   ]
  },
  {
   "cell_type": "code",
   "execution_count": 15,
   "metadata": {
    "collapsed": false
   },
   "outputs": [
    {
     "data": {
      "text/plain": [
       "1471"
      ]
     },
     "execution_count": 15,
     "metadata": {},
     "output_type": "execute_result"
    }
   ],
   "source": [
    "sum(good_rows)"
   ]
  },
  {
   "cell_type": "code",
   "execution_count": 16,
   "metadata": {
    "collapsed": false
   },
   "outputs": [],
   "source": [
    "reviews = reviews[good_rows]"
   ]
  },
  {
   "cell_type": "code",
   "execution_count": 17,
   "metadata": {
    "collapsed": false
   },
   "outputs": [
    {
     "data": {
      "text/plain": [
       "(1471, 11)"
      ]
     },
     "execution_count": 17,
     "metadata": {},
     "output_type": "execute_result"
    }
   ],
   "source": [
    "# verify that the number of observations here mathces the number of non-null entries in the reviews.describe line above\n",
    "reviews.shape"
   ]
  },
  {
   "cell_type": "markdown",
   "metadata": {},
   "source": [
    "## Task 3\n",
    "\n",
    "Add a new column to the DataFrame called **\"rude\"** that is 1 if the **policies_violated** column contains the text \"RudeService\", and 0 if the **policies_violated** column does not contain \"RudeService\". The \"rude\" column is going to be your response variable, so check how many zeros and ones it contains.\n",
    "\n",
    "- **Hint:** This [code snippet](http://chrisalbon.com/python/pandas_string_munging.html) shows how to use a pandas string method to search for the presence of a sub-string. You will also have to figure out how to convert the boolean results (True/False) to integers (1/0)."
   ]
  },
  {
   "cell_type": "code",
   "execution_count": 18,
   "metadata": {
    "collapsed": false
   },
   "outputs": [
    {
     "name": "stdout",
     "output_type": "stream",
     "text": [
      "(1471, 12)\n",
      "0    inf\n",
      "1    inf\n",
      "2    inf\n",
      "3    inf\n",
      "4    inf\n",
      "Name: rude, dtype: object\n"
     ]
    }
   ],
   "source": [
    "# add the new column and set the default value to Infinite as a double check\n",
    "# check the shape of the DF to make sure changes took effect as expected\n",
    "# inspect the first few rows to ensure worked as expected\n",
    "reviews['rude'] = 'inf'\n",
    "print reviews.shape\n",
    "print reviews.rude.head()"
   ]
  },
  {
   "cell_type": "code",
   "execution_count": 19,
   "metadata": {
    "collapsed": false
   },
   "outputs": [
    {
     "data": {
      "text/plain": [
       "0    RudeService\\nOrderProblem\\nFilthy\n",
       "1                          RudeService\n",
       "2            SlowService\\nOrderProblem\n",
       "3                                   na\n",
       "4                          RudeService\n",
       "Name: policies_violated, dtype: object"
      ]
     },
     "execution_count": 19,
     "metadata": {},
     "output_type": "execute_result"
    }
   ],
   "source": [
    "# review the contents of the policies_violated column to verify what is being looked for\n",
    "reviews.policies_violated.head()"
   ]
  },
  {
   "cell_type": "code",
   "execution_count": 20,
   "metadata": {
    "collapsed": false
   },
   "outputs": [
    {
     "name": "stdout",
     "output_type": "stream",
     "text": [
      "    Head    \n",
      "0     True\n",
      "1     True\n",
      "2    False\n",
      "3    False\n",
      "4     True\n",
      "Name: policies_violated, dtype: bool\n",
      "    Tail    \n",
      "1520    False\n",
      "1521    False\n",
      "1522    False\n",
      "1523    False\n",
      "1524    False\n",
      "Name: policies_violated, dtype: bool\n",
      "503\n"
     ]
    }
   ],
   "source": [
    "# ID boolean list of policies_violated features that contain the target word \"RudeService\"\n",
    "# Print the first few rows in the series to make sure worked as expected by comparin with cell above\n",
    "rude_labels = reviews['policies_violated'].str.contains('RudeService')\n",
    "print \"    Head    \"\n",
    "print rude_labels.head()\n",
    "print \"    Tail    \"\n",
    "print rude_labels.tail()\n",
    "# Check the number of rows that do in fact contain \"RudeService\"\n",
    "print sum(rude_labels)"
   ]
  },
  {
   "cell_type": "code",
   "execution_count": 21,
   "metadata": {
    "collapsed": false
   },
   "outputs": [
    {
     "data": {
      "text/plain": [
       "(1471,)"
      ]
     },
     "execution_count": 21,
     "metadata": {},
     "output_type": "execute_result"
    }
   ],
   "source": [
    "# Double check the dimensions the rude_labels before continuing\n",
    "rude_labels.shape"
   ]
  },
  {
   "cell_type": "code",
   "execution_count": 22,
   "metadata": {
    "collapsed": false
   },
   "outputs": [],
   "source": [
    "# set the DF rude column to the boolean values of rude_labels\n",
    "reviews.rude = rude_labels"
   ]
  },
  {
   "cell_type": "code",
   "execution_count": 23,
   "metadata": {
    "collapsed": false
   },
   "outputs": [
    {
     "name": "stdout",
     "output_type": "stream",
     "text": [
      "0     True\n",
      "1     True\n",
      "2    False\n",
      "3    False\n",
      "4     True\n",
      "Name: rude, dtype: bool\n",
      "1520    False\n",
      "1521    False\n",
      "1522    False\n",
      "1523    False\n",
      "1524    False\n",
      "Name: rude, dtype: bool\n"
     ]
    }
   ],
   "source": [
    "# check the contents to make sure it worked correctly\n",
    "print reviews.rude.head()\n",
    "print reviews.rude.tail()"
   ]
  },
  {
   "cell_type": "code",
   "execution_count": 24,
   "metadata": {
    "collapsed": false
   },
   "outputs": [
    {
     "data": {
      "text/plain": [
       "1520    False\n",
       "1521    False\n",
       "1522    False\n",
       "1523    False\n",
       "1524    False\n",
       "Name: rude, dtype: bool"
      ]
     },
     "execution_count": 24,
     "metadata": {},
     "output_type": "execute_result"
    }
   ],
   "source": [
    "reviews.rude.tail()"
   ]
  },
  {
   "cell_type": "code",
   "execution_count": 25,
   "metadata": {
    "collapsed": false
   },
   "outputs": [],
   "source": [
    "# convert the boolean values to 1/0\n",
    "bool_dict = {True:1, False:0}\n",
    "reviews.rude = reviews['rude'].map(bool_dict)"
   ]
  },
  {
   "cell_type": "code",
   "execution_count": 26,
   "metadata": {
    "collapsed": false
   },
   "outputs": [
    {
     "data": {
      "text/plain": [
       "0    1\n",
       "1    1\n",
       "2    0\n",
       "3    0\n",
       "4    1\n",
       "Name: rude, dtype: int64"
      ]
     },
     "execution_count": 26,
     "metadata": {},
     "output_type": "execute_result"
    }
   ],
   "source": [
    "# Check the first few rows to compare with cells above\n",
    "reviews.rude.head()"
   ]
  },
  {
   "cell_type": "code",
   "execution_count": 27,
   "metadata": {
    "collapsed": false
   },
   "outputs": [
    {
     "name": "stdout",
     "output_type": "stream",
     "text": [
      "(1471, 12)\n"
     ]
    },
    {
     "data": {
      "text/html": [
       "<div>\n",
       "<table border=\"1\" class=\"dataframe\">\n",
       "  <thead>\n",
       "    <tr style=\"text-align: right;\">\n",
       "      <th></th>\n",
       "      <th>_unit_id</th>\n",
       "      <th>_golden</th>\n",
       "      <th>_unit_state</th>\n",
       "      <th>_trusted_judgments</th>\n",
       "      <th>_last_judgment_at</th>\n",
       "      <th>policies_violated</th>\n",
       "      <th>policies_violated:confidence</th>\n",
       "      <th>city</th>\n",
       "      <th>policies_violated_gold</th>\n",
       "      <th>review</th>\n",
       "      <th>Unnamed: 10</th>\n",
       "      <th>rude</th>\n",
       "    </tr>\n",
       "  </thead>\n",
       "  <tbody>\n",
       "    <tr>\n",
       "      <th>0</th>\n",
       "      <td>679455653</td>\n",
       "      <td>False</td>\n",
       "      <td>finalized</td>\n",
       "      <td>3</td>\n",
       "      <td>2/21/15 0:36</td>\n",
       "      <td>RudeService\\nOrderProblem\\nFilthy</td>\n",
       "      <td>1.0\\n0.6667\\n0.6667</td>\n",
       "      <td>Atlanta</td>\n",
       "      <td>NaN</td>\n",
       "      <td>I'm not a huge mcds lover, but I've been to be...</td>\n",
       "      <td>NaN</td>\n",
       "      <td>1</td>\n",
       "    </tr>\n",
       "    <tr>\n",
       "      <th>1</th>\n",
       "      <td>679455654</td>\n",
       "      <td>False</td>\n",
       "      <td>finalized</td>\n",
       "      <td>3</td>\n",
       "      <td>2/21/15 0:27</td>\n",
       "      <td>RudeService</td>\n",
       "      <td>1</td>\n",
       "      <td>Atlanta</td>\n",
       "      <td>NaN</td>\n",
       "      <td>Terrible customer service. ŒæI came in at 9:30...</td>\n",
       "      <td>NaN</td>\n",
       "      <td>1</td>\n",
       "    </tr>\n",
       "    <tr>\n",
       "      <th>2</th>\n",
       "      <td>679455655</td>\n",
       "      <td>False</td>\n",
       "      <td>finalized</td>\n",
       "      <td>3</td>\n",
       "      <td>2/21/15 0:26</td>\n",
       "      <td>SlowService\\nOrderProblem</td>\n",
       "      <td>1.0\\n1.0</td>\n",
       "      <td>Atlanta</td>\n",
       "      <td>NaN</td>\n",
       "      <td>First they \"lost\" my order, actually they gave...</td>\n",
       "      <td>NaN</td>\n",
       "      <td>0</td>\n",
       "    </tr>\n",
       "    <tr>\n",
       "      <th>3</th>\n",
       "      <td>679455656</td>\n",
       "      <td>False</td>\n",
       "      <td>finalized</td>\n",
       "      <td>3</td>\n",
       "      <td>2/21/15 0:27</td>\n",
       "      <td>na</td>\n",
       "      <td>0.6667</td>\n",
       "      <td>Atlanta</td>\n",
       "      <td>NaN</td>\n",
       "      <td>I see I'm not the only one giving 1 star. Only...</td>\n",
       "      <td>NaN</td>\n",
       "      <td>0</td>\n",
       "    </tr>\n",
       "    <tr>\n",
       "      <th>4</th>\n",
       "      <td>679455657</td>\n",
       "      <td>False</td>\n",
       "      <td>finalized</td>\n",
       "      <td>3</td>\n",
       "      <td>2/21/15 0:27</td>\n",
       "      <td>RudeService</td>\n",
       "      <td>1</td>\n",
       "      <td>Atlanta</td>\n",
       "      <td>NaN</td>\n",
       "      <td>Well, it's McDonald's, so you know what the fo...</td>\n",
       "      <td>NaN</td>\n",
       "      <td>1</td>\n",
       "    </tr>\n",
       "  </tbody>\n",
       "</table>\n",
       "</div>"
      ],
      "text/plain": [
       "    _unit_id _golden _unit_state  _trusted_judgments _last_judgment_at  \\\n",
       "0  679455653   False   finalized                   3      2/21/15 0:36   \n",
       "1  679455654   False   finalized                   3      2/21/15 0:27   \n",
       "2  679455655   False   finalized                   3      2/21/15 0:26   \n",
       "3  679455656   False   finalized                   3      2/21/15 0:27   \n",
       "4  679455657   False   finalized                   3      2/21/15 0:27   \n",
       "\n",
       "                   policies_violated policies_violated:confidence     city  \\\n",
       "0  RudeService\\nOrderProblem\\nFilthy          1.0\\n0.6667\\n0.6667  Atlanta   \n",
       "1                        RudeService                            1  Atlanta   \n",
       "2          SlowService\\nOrderProblem                     1.0\\n1.0  Atlanta   \n",
       "3                                 na                       0.6667  Atlanta   \n",
       "4                        RudeService                            1  Atlanta   \n",
       "\n",
       "   policies_violated_gold                                             review  \\\n",
       "0                     NaN  I'm not a huge mcds lover, but I've been to be...   \n",
       "1                     NaN  Terrible customer service. ŒæI came in at 9:30...   \n",
       "2                     NaN  First they \"lost\" my order, actually they gave...   \n",
       "3                     NaN  I see I'm not the only one giving 1 star. Only...   \n",
       "4                     NaN  Well, it's McDonald's, so you know what the fo...   \n",
       "\n",
       "   Unnamed: 10  rude  \n",
       "0          NaN     1  \n",
       "1          NaN     1  \n",
       "2          NaN     0  \n",
       "3          NaN     0  \n",
       "4          NaN     1  "
      ]
     },
     "execution_count": 27,
     "metadata": {},
     "output_type": "execute_result"
    }
   ],
   "source": [
    "# Double check the shape\n",
    "print reviews.shape\n",
    "reviews.head()"
   ]
  },
  {
   "cell_type": "code",
   "execution_count": 28,
   "metadata": {
    "collapsed": false
   },
   "outputs": [
    {
     "data": {
      "text/html": [
       "<div>\n",
       "<table border=\"1\" class=\"dataframe\">\n",
       "  <thead>\n",
       "    <tr style=\"text-align: right;\">\n",
       "      <th></th>\n",
       "      <th>_unit_id</th>\n",
       "      <th>_golden</th>\n",
       "      <th>_unit_state</th>\n",
       "      <th>_trusted_judgments</th>\n",
       "      <th>_last_judgment_at</th>\n",
       "      <th>policies_violated</th>\n",
       "      <th>policies_violated:confidence</th>\n",
       "      <th>city</th>\n",
       "      <th>policies_violated_gold</th>\n",
       "      <th>review</th>\n",
       "      <th>Unnamed: 10</th>\n",
       "      <th>rude</th>\n",
       "    </tr>\n",
       "  </thead>\n",
       "  <tbody>\n",
       "    <tr>\n",
       "      <th>1520</th>\n",
       "      <td>679500008</td>\n",
       "      <td>False</td>\n",
       "      <td>finalized</td>\n",
       "      <td>3</td>\n",
       "      <td>2/21/15 0:13</td>\n",
       "      <td>OrderProblem</td>\n",
       "      <td>0.6754</td>\n",
       "      <td>Portland</td>\n",
       "      <td>NaN</td>\n",
       "      <td>I enjoyed the part where I repeatedly asked if...</td>\n",
       "      <td>NaN</td>\n",
       "      <td>0</td>\n",
       "    </tr>\n",
       "    <tr>\n",
       "      <th>1521</th>\n",
       "      <td>679500224</td>\n",
       "      <td>False</td>\n",
       "      <td>finalized</td>\n",
       "      <td>3</td>\n",
       "      <td>2/21/15 0:27</td>\n",
       "      <td>SlowService\\nFilthy\\nBadFood</td>\n",
       "      <td>1.0\\n1.0\\n1.0</td>\n",
       "      <td>Houston</td>\n",
       "      <td>NaN</td>\n",
       "      <td>Worst McDonalds I've been in in a long time! D...</td>\n",
       "      <td>NaN</td>\n",
       "      <td>0</td>\n",
       "    </tr>\n",
       "    <tr>\n",
       "      <th>1522</th>\n",
       "      <td>679500608</td>\n",
       "      <td>False</td>\n",
       "      <td>finalized</td>\n",
       "      <td>3</td>\n",
       "      <td>2/21/15 0:24</td>\n",
       "      <td>ScaryMcDs</td>\n",
       "      <td>0.6458</td>\n",
       "      <td>New York</td>\n",
       "      <td>NaN</td>\n",
       "      <td>When I am really craving for McDonald's, this ...</td>\n",
       "      <td>NaN</td>\n",
       "      <td>0</td>\n",
       "    </tr>\n",
       "    <tr>\n",
       "      <th>1523</th>\n",
       "      <td>679501257</td>\n",
       "      <td>False</td>\n",
       "      <td>finalized</td>\n",
       "      <td>3</td>\n",
       "      <td>2/21/15 0:32</td>\n",
       "      <td>ScaryMcDs</td>\n",
       "      <td>0.6407</td>\n",
       "      <td>Chicago</td>\n",
       "      <td>NaN</td>\n",
       "      <td>Two points right out of the gate: 1. Thuggery ...</td>\n",
       "      <td>NaN</td>\n",
       "      <td>0</td>\n",
       "    </tr>\n",
       "    <tr>\n",
       "      <th>1524</th>\n",
       "      <td>679501402</td>\n",
       "      <td>False</td>\n",
       "      <td>finalized</td>\n",
       "      <td>3</td>\n",
       "      <td>2/21/15 0:27</td>\n",
       "      <td>ScaryMcDs\\nSlowService</td>\n",
       "      <td>1.0\\n0.6667</td>\n",
       "      <td>Los Angeles</td>\n",
       "      <td>NaN</td>\n",
       "      <td>I wanted to grab breakfast one morning before ...</td>\n",
       "      <td>NaN</td>\n",
       "      <td>0</td>\n",
       "    </tr>\n",
       "  </tbody>\n",
       "</table>\n",
       "</div>"
      ],
      "text/plain": [
       "       _unit_id _golden _unit_state  _trusted_judgments _last_judgment_at  \\\n",
       "1520  679500008   False   finalized                   3      2/21/15 0:13   \n",
       "1521  679500224   False   finalized                   3      2/21/15 0:27   \n",
       "1522  679500608   False   finalized                   3      2/21/15 0:24   \n",
       "1523  679501257   False   finalized                   3      2/21/15 0:32   \n",
       "1524  679501402   False   finalized                   3      2/21/15 0:27   \n",
       "\n",
       "                 policies_violated policies_violated:confidence         city  \\\n",
       "1520                  OrderProblem                       0.6754     Portland   \n",
       "1521  SlowService\\nFilthy\\nBadFood                1.0\\n1.0\\n1.0      Houston   \n",
       "1522                     ScaryMcDs                       0.6458     New York   \n",
       "1523                     ScaryMcDs                       0.6407      Chicago   \n",
       "1524        ScaryMcDs\\nSlowService                  1.0\\n0.6667  Los Angeles   \n",
       "\n",
       "      policies_violated_gold  \\\n",
       "1520                     NaN   \n",
       "1521                     NaN   \n",
       "1522                     NaN   \n",
       "1523                     NaN   \n",
       "1524                     NaN   \n",
       "\n",
       "                                                 review  Unnamed: 10  rude  \n",
       "1520  I enjoyed the part where I repeatedly asked if...          NaN     0  \n",
       "1521  Worst McDonalds I've been in in a long time! D...          NaN     0  \n",
       "1522  When I am really craving for McDonald's, this ...          NaN     0  \n",
       "1523  Two points right out of the gate: 1. Thuggery ...          NaN     0  \n",
       "1524  I wanted to grab breakfast one morning before ...          NaN     0  "
      ]
     },
     "execution_count": 28,
     "metadata": {},
     "output_type": "execute_result"
    }
   ],
   "source": [
    "# check the last few rows\n",
    "reviews.tail()"
   ]
  },
  {
   "cell_type": "markdown",
   "metadata": {},
   "source": [
    "## Task 4\n",
    "\n",
    "1. Define X (the **review** column) and y (the **rude** column).\n",
    "2. Split X and y into training and testing sets (using the parameter **`random_state=1`**).\n",
    "3. Use CountVectorizer (with the **default parameters**) to create document-term matrices from X_train and X_test."
   ]
  },
  {
   "cell_type": "code",
   "execution_count": 29,
   "metadata": {
    "collapsed": false
   },
   "outputs": [
    {
     "name": "stdout",
     "output_type": "stream",
     "text": [
      "(1471,)\n",
      "(1471,)\n"
     ]
    }
   ],
   "source": [
    "# Create the X review column that will later be converted into a DTM feature matrix\n",
    "# Creat the y rude column that will be used as the response labels\n",
    "# Check the shape of each\n",
    "X = reviews.review\n",
    "y = reviews.rude\n",
    "print X.shape\n",
    "print y.shape"
   ]
  },
  {
   "cell_type": "code",
   "execution_count": 30,
   "metadata": {
    "collapsed": false
   },
   "outputs": [
    {
     "name": "stdout",
     "output_type": "stream",
     "text": [
      "(1103,)\n",
      "(368,)\n",
      "(1103,)\n",
      "(368,)\n"
     ]
    }
   ],
   "source": [
    "# Create the train/test splits\n",
    "# Check the shapes of each\n",
    "from sklearn.cross_validation import train_test_split\n",
    "X_train,X_test, y_train,y_test = train_test_split(X,y, random_state = 1)\n",
    "print X_train.shape\n",
    "print X_test.shape\n",
    "print y_train.shape\n",
    "print y_test.shape"
   ]
  },
  {
   "cell_type": "code",
   "execution_count": 31,
   "metadata": {
    "collapsed": false
   },
   "outputs": [
    {
     "data": {
      "text/plain": [
       "CountVectorizer(analyzer=u'word', binary=False, decode_error=u'strict',\n",
       "        dtype=<type 'numpy.int64'>, encoding=u'utf-8', input=u'content',\n",
       "        lowercase=True, max_df=1.0, max_features=None, min_df=1,\n",
       "        ngram_range=(1, 1), preprocessor=None, stop_words=None,\n",
       "        strip_accents=None, token_pattern=u'(?u)\\\\b\\\\w\\\\w+\\\\b',\n",
       "        tokenizer=None, vocabulary=None)"
      ]
     },
     "execution_count": 31,
     "metadata": {},
     "output_type": "execute_result"
    }
   ],
   "source": [
    "# instantiate CountVectorizer with default params \n",
    "from sklearn.feature_extraction.text import CountVectorizer\n",
    "vect = CountVectorizer()\n",
    "vect"
   ]
  },
  {
   "cell_type": "code",
   "execution_count": 32,
   "metadata": {
    "collapsed": false
   },
   "outputs": [
    {
     "name": "stdout",
     "output_type": "stream",
     "text": [
      "(1103, 7300)\n",
      "(368, 7300)\n"
     ]
    }
   ],
   "source": [
    "# and convert X_train and X_test into dtms and check their shapes\n",
    "X_train_dtm = vect.fit_transform(X_train)\n",
    "X_test_dtm = vect.transform(X_test)\n",
    "print X_train_dtm.shape\n",
    "print X_test_dtm.shape"
   ]
  },
  {
   "cell_type": "code",
   "execution_count": 33,
   "metadata": {
    "collapsed": false
   },
   "outputs": [
    {
     "data": {
      "text/plain": [
       "<1103x7300 sparse matrix of type '<type 'numpy.int64'>'\n",
       "\twith 70807 stored elements in Compressed Sparse Row format>"
      ]
     },
     "execution_count": 33,
     "metadata": {},
     "output_type": "execute_result"
    }
   ],
   "source": [
    "# review details of the two newly created dtms\n",
    "X_train_dtm"
   ]
  },
  {
   "cell_type": "code",
   "execution_count": 34,
   "metadata": {
    "collapsed": false
   },
   "outputs": [
    {
     "data": {
      "text/plain": [
       "<368x7300 sparse matrix of type '<type 'numpy.int64'>'\n",
       "\twith 22035 stored elements in Compressed Sparse Row format>"
      ]
     },
     "execution_count": 34,
     "metadata": {},
     "output_type": "execute_result"
    }
   ],
   "source": [
    "# review details of the two newly created dtms\n",
    "X_test_dtm"
   ]
  },
  {
   "cell_type": "markdown",
   "metadata": {},
   "source": [
    "## Task 5\n",
    "\n",
    "Fit a Multinomial Naive Bayes model to the training set, calculate the **predicted probabilites** (not the class predictions) for the testing set, and then calculate the **AUC**. Repeat this task using a logistic regression model to see which of the two models achieves a better AUC.\n",
    "\n",
    "- **Note:** Because McDonald's only cares about ranking the comments by the likelihood that they refer to rude service, **classification accuracy** is not the relevant evaluation metric. **Area Under the Curve (AUC)** is a more useful evaluation metric for this scenario, since it measures the ability of the classifier to assign higher predicted probabilities to positive instances than to negative instances.\n",
    "- **Hint:** [Evaluating a classification model](https://github.com/justmarkham/scikit-learn-videos/blob/master/09_classification_metrics.ipynb) explains how to calculate predicted probabilities and AUC, and my [blog post and video](http://www.dataschool.io/roc-curves-and-auc-explained/) explain AUC in-depth."
   ]
  },
  {
   "cell_type": "code",
   "execution_count": 35,
   "metadata": {
    "collapsed": false
   },
   "outputs": [
    {
     "name": "stdout",
     "output_type": "stream",
     "text": [
      "0    0.633152\n",
      "1    0.366848\n",
      "Name: rude, dtype: float64\n"
     ]
    }
   ],
   "source": [
    "# calculate null accuracy\n",
    "print (y_test.value_counts().head() / y_test.shape)"
   ]
  },
  {
   "cell_type": "code",
   "execution_count": 36,
   "metadata": {
    "collapsed": false
   },
   "outputs": [
    {
     "data": {
      "text/plain": [
       "MultinomialNB(alpha=1.0, class_prior=None, fit_prior=True)"
      ]
     },
     "execution_count": 36,
     "metadata": {},
     "output_type": "execute_result"
    }
   ],
   "source": [
    "# Fit a MultinmoialNB model to the training set and determine the predicted probabilites\n",
    "from sklearn.naive_bayes import MultinomialNB\n",
    "nb = MultinomialNB()\n",
    "nb.fit(X_train_dtm, y_train)"
   ]
  },
  {
   "cell_type": "code",
   "execution_count": 37,
   "metadata": {
    "collapsed": false,
    "scrolled": true
   },
   "outputs": [
    {
     "data": {
      "text/plain": [
       "array([  9.99234643e-01,   2.59242971e-01,   8.57868677e-01,\n",
       "         2.67695702e-06,   2.68548521e-01])"
      ]
     },
     "execution_count": 37,
     "metadata": {},
     "output_type": "execute_result"
    }
   ],
   "source": [
    "# Calculate the predicted probabilities and save the predicted probablities for 1\n",
    "y_pred_probs_nb = nb.predict_proba(X_test_dtm)[:,1]\n",
    "y_pred_probs_nb[0:5]\n",
    "#y_pred_class = nb.predict(X_test_dtm)"
   ]
  },
  {
   "cell_type": "code",
   "execution_count": 39,
   "metadata": {
    "collapsed": false
   },
   "outputs": [
    {
     "data": {
      "image/png": "[encoded data removed]",
      "text/plain": [
       "<matplotlib.figure.Figure at 0x10df5a550>"
      ]
     },
     "metadata": {},
     "output_type": "display_data"
    }
   ],
   "source": [
    "# plot the ROC Curve\n",
    "from sklearn import metrics\n",
    "import matplotlib.pyplot as plt\n",
    "%matplotlib inline\n",
    "fpr_nb, tpr_nb, threshold_nb = metrics.roc_curve(y_test, y_pred_probs_nb)\n",
    "plt.plot(fpr_nb, tpr_nb)\n",
    "plt.xlim([0.0, 1.0])\n",
    "plt.ylim([0.0, 1.0])\n",
    "plt.title('ROC curve for RudeService NaiveBayes classifier')\n",
    "plt.xlabel('False Positive Rate (1 - Specificity)')\n",
    "plt.ylabel('True Positive Rate (Sensitivity)')\n",
    "plt.grid(True)"
   ]
  },
  {
   "cell_type": "code",
   "execution_count": 40,
   "metadata": {
    "collapsed": false
   },
   "outputs": [
    {
     "data": {
      "text/plain": [
       "0.84196471149260854"
      ]
     },
     "execution_count": 40,
     "metadata": {},
     "output_type": "execute_result"
    }
   ],
   "source": [
    "# calculate the AUC for the NaiveBayes model with the default parameters set for CountVectorizer\n",
    "metrics.roc_auc_score(y_test,y_pred_probs_nb)"
   ]
  },
  {
   "cell_type": "code",
   "execution_count": 42,
   "metadata": {
    "collapsed": false
   },
   "outputs": [
    {
     "name": "stdout",
     "output_type": "stream",
     "text": [
      "[0.6254, 0.1058, 0.7901, 0.0374, 0.4666, 0.8918, 0.0002, 0.0149, 0.2376, 0.1083]\n"
     ]
    },
    {
     "data": {
      "text/plain": [
       "[1, 1, 0, 0, 1, 1, 0, 0, 0, 0]"
      ]
     },
     "execution_count": 42,
     "metadata": {},
     "output_type": "execute_result"
    }
   ],
   "source": [
    "# Repeat the process with logistic regression model\n",
    "#import and instantiate the model\n",
    "from sklearn.linear_model import LogisticRegression\n",
    "logit = LogisticRegression()\n",
    "\n",
    "# fit the training data to the model\n",
    "logit.fit(X_train_dtm, y_train)\n",
    "\n",
    "# predict the probabilities that each observation in the test DTM does contain RudeService (ie, is a 1)\n",
    "y_pred_probs_logit = logit.predict_proba(X_test_dtm)[:,1]\n",
    "print [round(x,4) for x in y_pred_probs_logit[0:10]]\n",
    "#inspect the results against the actual values for the first 10 to better understand how performs\n",
    "[x for x in y_test[0:10]]"
   ]
  },
  {
   "cell_type": "code",
   "execution_count": 43,
   "metadata": {
    "collapsed": false
   },
   "outputs": [
    {
     "data": {
      "image/png": "[encoded data removed]",
      "text/plain": [
       "<matplotlib.figure.Figure at 0x10df5a4d0>"
      ]
     },
     "metadata": {},
     "output_type": "display_data"
    }
   ],
   "source": [
    "# Plot the ROC curve for the logistic regression model\n",
    "from sklearn import metrics\n",
    "import matplotlib.pyplot as plt\n",
    "%matplotlib inline\n",
    "fpr_lm, tpr_lm, threshold_lm = metrics.roc_curve(y_test, y_pred_probs_logit)\n",
    "plt.plot(fpr_lm,tpr_lm)\n",
    "plt.xlim([0.0, 1.0])\n",
    "plt.ylim([0.0, 1.0])\n",
    "plt.title('ROC curve for RudeService Logit Classifier')\n",
    "plt.xlabel(\"False Positive Rate (1-Specificty)\")\n",
    "plt.ylabel(\"True Positive Rate (Sensitivity)\")\n",
    "plt.grid(True)"
   ]
  },
  {
   "cell_type": "code",
   "execution_count": 44,
   "metadata": {
    "collapsed": false
   },
   "outputs": [
    {
     "data": {
      "text/plain": [
       "0.82339850580193941"
      ]
     },
     "execution_count": 44,
     "metadata": {},
     "output_type": "execute_result"
    }
   ],
   "source": [
    "# Calculate the AUC for the Logit Model\n",
    "metrics.roc_auc_score(y_test, y_pred_probs_logit)"
   ]
  },
  {
   "cell_type": "markdown",
   "metadata": {},
   "source": [
    "## Task 6\n",
    "\n",
    "Using either Naive Bayes or logistic regression (whichever one had a better AUC in the previous step), try **tuning CountVectorizer** using some of the techniques we learned in class. Check the testing set **AUC** after each change, and find the set of parameters that increases AUC the most.\n",
    "\n",
    "- **Hint:** It is highly recommended that you adapt the **`tokenize_test()`** function from class for this purpose, since it will allow you to iterate quickly through different sets of parameters."
   ]
  },
  {
   "cell_type": "code",
   "execution_count": 47,
   "metadata": {
    "collapsed": false
   },
   "outputs": [],
   "source": [
    "# define a function that accepts a vectorizer and calculates the accuracy\n",
    "# create a param\n",
    "def tokenize_test(vect):\n",
    "    result = {}\n",
    "    # create document-term matrices using the vectorizer\n",
    "    X_train_dtm = vect.fit_transform(X_train)\n",
    "    X_test_dtm = vect.transform(X_test)\n",
    "    \n",
    "    # print the number of features that were generated\n",
    "    feat = X_train_dtm.shape[1] \n",
    "    print 'Features: ', feat\n",
    "\n",
    "    # use Multinomial Naive Bayes to predict the star rating\n",
    "    nb = MultinomialNB()\n",
    "    nb.fit(X_train_dtm, y_train)\n",
    "    y_pred_probs_tune = nb.predict_proba(X_test_dtm)[:,1]\n",
    "    \n",
    "    # print the accuracy of its predictions\n",
    "    auc = metrics.roc_auc_score(y_test, y_pred_probs_tune)\n",
    "    print 'Accuracy: ', auc\n",
    "    result[feat] = auc\n",
    "    return result"
   ]
  },
  {
   "cell_type": "code",
   "execution_count": 48,
   "metadata": {
    "collapsed": false
   },
   "outputs": [
    {
     "name": "stdout",
     "output_type": "stream",
     "text": [
      "Features:  7300\n",
      "Accuracy:  0.841964711493\n"
     ]
    },
    {
     "data": {
      "text/plain": [
       "{7300: 0.84196471149260854}"
      ]
     },
     "execution_count": 48,
     "metadata": {},
     "output_type": "execute_result"
    }
   ],
   "source": [
    "# first run the tokenize_test funtion with the default parameters\n",
    "# This shows the same AUC measured above so we know the function is working correctly.\n",
    "vect = CountVectorizer()\n",
    "tokenize_test(vect)"
   ]
  },
  {
   "cell_type": "markdown",
   "metadata": {},
   "source": [
    "### Tuning Parameters to Consider:\n",
    "1.  Don't convert to lowercase: \n",
    "\n",
    "vect = CountVectorizer(lowercase=False)\n",
    "\n",
    "2. Include 1-grams and 2-grams: \n",
    "\n",
    "vect = CountVectorizer(ngram_range=(1,2))\n",
    "\n",
    "3. Ignore English stop words:\n",
    "vect = CountVectorizer(stop_words='english')\n"
   ]
  },
  {
   "cell_type": "code",
   "execution_count": 50,
   "metadata": {
    "collapsed": false
   },
   "outputs": [
    {
     "name": "stdout",
     "output_type": "stream",
     "text": [
      "Features:  8742\n",
      "Accuracy:  0.840375139088\n"
     ]
    },
    {
     "data": {
      "text/plain": [
       "{8742: 0.84037513908758543}"
      ]
     },
     "execution_count": 50,
     "metadata": {},
     "output_type": "execute_result"
    }
   ],
   "source": [
    "# Check the AUC for this model that distinguishes lower and upper case\n",
    "#tokenize_test('lowercase=False')\n",
    "vect = CountVectorizer(lowercase = False)\n",
    "tokenize_test(vect)"
   ]
  },
  {
   "cell_type": "code",
   "execution_count": 51,
   "metadata": {
    "collapsed": false
   },
   "outputs": [
    {
     "name": "stdout",
     "output_type": "stream",
     "text": [
      "Features:  7021\n",
      "Accuracy:  0.853266571292\n"
     ]
    },
    {
     "data": {
      "text/plain": [
       "{7021: 0.85326657129232231}"
      ]
     },
     "execution_count": 51,
     "metadata": {},
     "output_type": "execute_result"
    }
   ],
   "source": [
    "# Adjust the model to ignore English Stop Words\n",
    "vect = CountVectorizer(stop_words='english')\n",
    "tokenize_test(vect)"
   ]
  },
  {
   "cell_type": "code",
   "execution_count": 52,
   "metadata": {
    "collapsed": false
   },
   "outputs": [
    {
     "name": "stdout",
     "output_type": "stream",
     "text": [
      "Features:  57936\n",
      "Accuracy:  0.818375457002\n"
     ]
    },
    {
     "data": {
      "text/plain": [
       "{57936: 0.81837545700206649}"
      ]
     },
     "execution_count": 52,
     "metadata": {},
     "output_type": "execute_result"
    }
   ],
   "source": [
    "# Adjust the model to count 1 and 2 grams\n",
    "vect = CountVectorizer(ngram_range=(1,2))\n",
    "tokenize_test(vect)"
   ]
  },
  {
   "cell_type": "code",
   "execution_count": 53,
   "metadata": {
    "collapsed": false
   },
   "outputs": [
    {
     "name": "stdout",
     "output_type": "stream",
     "text": [
      "Features:  6427\n",
      "Accuracy:  0.736687331108\n",
      "Features:  6773\n",
      "Accuracy:  0.773263392148\n",
      "Features:  6925\n",
      "Accuracy:  0.767350182801\n",
      "Features:  7007\n",
      "Accuracy:  0.78167223017\n",
      "Features:  7062\n",
      "Accuracy:  0.801828008266\n",
      "Features:  7096\n",
      "Accuracy:  0.802845334605\n",
      "Features:  7116\n",
      "Accuracy:  0.811572087109\n",
      "Features:  7141\n",
      "Accuracy:  0.834938801462\n",
      "Features:  7162\n",
      "Accuracy:  0.841328882531\n",
      "Features:  7184\n",
      "Accuracy:  0.840565887776\n"
     ]
    }
   ],
   "source": [
    "# Adjust the model to look at max thresholds for tokens that documents can appear in\n",
    "cieling = range(1,11)\n",
    "for each in cieling:\n",
    "    num = float(each)/100\n",
    "    vect = CountVectorizer(max_df=num)\n",
    "    tokenize_test(vect)"
   ]
  },
  {
   "cell_type": "code",
   "execution_count": 54,
   "metadata": {
    "collapsed": false
   },
   "outputs": [
    {
     "name": "stdout",
     "output_type": "stream",
     "text": [
      "Features:  3500\n",
      "Accuracy:  0.844221904308\n",
      "Features:  2449\n",
      "Accuracy:  0.84301382928\n",
      "Features:  1977\n",
      "Accuracy:  0.84250516611\n",
      "Features:  1699\n",
      "Accuracy:  0.838594817994\n",
      "Features:  1470\n",
      "Accuracy:  0.840263869019\n",
      "Features:  1313\n",
      "Accuracy:  0.837195994278\n",
      "Features:  1190\n",
      "Accuracy:  0.835797170561\n",
      "Features:  1102\n",
      "Accuracy:  0.836560165316\n"
     ]
    }
   ],
   "source": [
    "# Adjust the minimum document frequency\n",
    "docs = range(2,10)\n",
    "for doc in docs:\n",
    "    vect = CountVectorizer(min_df=doc)\n",
    "    tokenize_test(vect)"
   ]
  },
  {
   "cell_type": "code",
   "execution_count": 55,
   "metadata": {
    "collapsed": false
   },
   "outputs": [
    {
     "name": "stdout",
     "output_type": "stream",
     "text": [
      "Features:  1000\n",
      "Accuracy:  0.830074709903\n",
      "Features:  2000\n",
      "Accuracy:  0.840073120331\n",
      "Features:  3000\n",
      "Accuracy:  0.842060085837\n",
      "Features:  4000\n",
      "Accuracy:  0.84250516611\n",
      "Features:  5000\n",
      "Accuracy:  0.840057224607\n",
      "Features:  6000\n",
      "Accuracy:  0.838531235098\n",
      "Features:  7000\n",
      "Accuracy:  0.840327451915\n"
     ]
    }
   ],
   "source": [
    "# Adjust the maximum number of features to keep\n",
    "feats = range(1000,7001,1000)\n",
    "for feat in feats:\n",
    "    vect = CountVectorizer(max_features=feat)\n",
    "    tokenize_test(vect)"
   ]
  },
  {
   "cell_type": "markdown",
   "metadata": {},
   "source": [
    "#### This gives the highest AUC (by only slightly) over the other parameter tuning options"
   ]
  },
  {
   "cell_type": "code",
   "execution_count": 56,
   "metadata": {
    "collapsed": false
   },
   "outputs": [
    {
     "name": "stdout",
     "output_type": "stream",
     "text": [
      "Features:  6700\n",
      "Accuracy:  0.854220314735\n",
      "Features:  6710\n",
      "Accuracy:  0.854220314735\n",
      "Features:  6720\n",
      "Accuracy:  0.854220314735\n",
      "Features:  6730\n",
      "Accuracy:  0.854347480528\n",
      "Features:  6740\n",
      "Accuracy:  0.8543951677\n",
      "Features:  6750\n",
      "Accuracy:  0.8543951677\n",
      "Features:  6760\n",
      "Accuracy:  0.854363376252\n",
      "Features:  6770\n",
      "Accuracy:  0.854124940391\n",
      "Features:  6780\n",
      "Accuracy:  0.854188523287\n",
      "Features:  6790\n",
      "Accuracy:  0.854188523287\n",
      "Features:  6800\n",
      "Accuracy:  0.854188523287\n"
     ]
    }
   ],
   "source": [
    "# Try combining some of the better performing tuning parameter options\n",
    "# remove English stop words, limit the max_features\n",
    "\n",
    "feats = range(6700,6801,10)\n",
    "for feat in feats:\n",
    "    vect = CountVectorizer(stop_words='english', max_features=feat)\n",
    "    tokenize_test(vect)"
   ]
  },
  {
   "cell_type": "code",
   "execution_count": 57,
   "metadata": {
    "collapsed": false
   },
   "outputs": [
    {
     "name": "stdout",
     "output_type": "stream",
     "text": [
      "Features:  6700\n",
      "Accuracy:  0.850723255444\n",
      "Features:  6710\n",
      "Accuracy:  0.850723255444\n",
      "Features:  6720\n",
      "Accuracy:  0.850723255444\n",
      "Features:  6730\n",
      "Accuracy:  0.850373549515\n",
      "Features:  6740\n",
      "Accuracy:  0.850373549515\n",
      "Features:  6750\n",
      "Accuracy:  0.850373549515\n",
      "Features:  6760\n",
      "Accuracy:  0.850341758067\n",
      "Features:  6770\n",
      "Accuracy:  0.850309966619\n",
      "Features:  6780\n",
      "Accuracy:  0.850309966619\n",
      "Features:  6790\n",
      "Accuracy:  0.850341758067\n",
      "Features:  6800\n",
      "Accuracy:  0.850087426482\n"
     ]
    }
   ],
   "source": [
    "# Try combining some of the better performing tuning parameter options\n",
    "# remove English stop words, limit the max_features, lowercase = False\n",
    "feats = range(6700,6801,10)\n",
    "for feat in feats:\n",
    "    vect = CountVectorizer(stop_words='english', max_features=feat, lowercase=False)\n",
    "    tokenize_test(vect)"
   ]
  },
  {
   "cell_type": "code",
   "execution_count": 58,
   "metadata": {
    "collapsed": false
   },
   "outputs": [
    {
     "name": "stdout",
     "output_type": "stream",
     "text": [
      "Features:  6700\n",
      "Accuracy:  0.843331743761\n",
      "Features:  6710\n",
      "Accuracy:  0.843458909553\n",
      "Features:  6720\n",
      "Accuracy:  0.84368144969\n",
      "Features:  6730\n",
      "Accuracy:  0.843713241138\n",
      "Features:  6740\n",
      "Accuracy:  0.843490701001\n",
      "Features:  6750\n",
      "Accuracy:  0.84301382928\n",
      "Features:  6760\n",
      "Accuracy:  0.843458909553\n",
      "Features:  6770\n",
      "Accuracy:  0.843411222381\n",
      "Features:  6780\n",
      "Accuracy:  0.843474805277\n",
      "Features:  6790\n",
      "Accuracy:  0.843443013829\n",
      "Features:  6800\n",
      "Accuracy:  0.843570179622\n"
     ]
    }
   ],
   "source": [
    "# Try combining some of the better performing tuning parameter options\n",
    "# remove English stop words, limit the max_features\n",
    "feats = range(6700,6801,10)\n",
    "for feat in feats:\n",
    "    vect = CountVectorizer(stop_words='english', max_features=feat, ngram_range=(1,2))\n",
    "    tokenize_test(vect)"
   ]
  },
  {
   "cell_type": "code",
   "execution_count": 59,
   "metadata": {
    "collapsed": false
   },
   "outputs": [
    {
     "name": "stdout",
     "output_type": "stream",
     "text": [
      "Features:  6339\n",
      "Accuracy:  0.743284056589\n",
      "Features:  6666\n",
      "Accuracy:  0.780384676522\n",
      "Features:  6750\n",
      "Accuracy:  0.774153552694\n",
      "Features:  6750\n",
      "Accuracy:  0.79046256557\n",
      "Features:  6750\n",
      "Accuracy:  0.809092354157\n",
      "Features:  6750\n",
      "Accuracy:  0.810936258147\n",
      "Features:  6750\n",
      "Accuracy:  0.815609601017\n",
      "Features:  6750\n",
      "Accuracy:  0.837561595931\n",
      "Features:  6750\n",
      "Accuracy:  0.841996502941\n",
      "Features:  6750\n",
      "Accuracy:  0.841964711493\n"
     ]
    }
   ],
   "source": [
    "cieling = range(1,11)\n",
    "for each in cieling:\n",
    "    num = float(each)/100\n",
    "    vect = CountVectorizer(stop_words='english', max_features=6750, max_df=num)\n",
    "    tokenize_test(vect)"
   ]
  },
  {
   "cell_type": "markdown",
   "metadata": {},
   "source": [
    "### The set of tuning parameters that increase AUC the most is:\n",
    "1. Remove english stop words \n",
    "2. Set the maximum feature length to  6750 tokens.\n",
    "    - Number of Features: 6750\n",
    "    - Highet AUC: 0.8543951677"
   ]
  },
  {
   "cell_type": "markdown",
   "metadata": {},
   "source": [
    "## Task 7 (Challenge)\n",
    "\n",
    "The **city** column might be predictive of the response, but we are not currently using it as a feature. Let's see whether we can increase the AUC by adding it to the model:\n",
    "\n",
    "1. Create a new DataFrame column, **review_city**, that concatenates the **review** text with the **city** text. One easy way to combine string columns in pandas is by using the [`Series.str.cat()`](http://pandas.pydata.org/pandas-docs/stable/generated/pandas.Series.str.cat.html) method. Make sure to use the **space character** as a separator, as well as replacing **null city values** with a reasonable string value (such as 'na').\n",
    "2. Redefine X as the **review_city** column, and re-split X and y into training and testing sets.\n",
    "3. When you run **`tokenize_test()`**, CountVectorizer will simply treat the city as an extra word in the review, and thus it will automatically be included in the model! Check to see whether it increased or decreased the AUC of your **best model**."
   ]
  },
  {
   "cell_type": "code",
   "execution_count": 61,
   "metadata": {
    "collapsed": false
   },
   "outputs": [
    {
     "name": "stderr",
     "output_type": "stream",
     "text": [
      "/anaconda/lib/python2.7/site-packages/IPython/kernel/__main__.py:3: SettingWithCopyWarning: \n",
      "A value is trying to be set on a copy of a slice from a DataFrame\n",
      "\n",
      "See the caveats in the documentation: http://pandas.pydata.org/pandas-docs/stable/indexing.html#indexing-view-versus-copy\n",
      "  app.launch_new_instance()\n"
     ]
    }
   ],
   "source": [
    "# replace null city values with 'na'\n",
    "city_null = reviews.city.isnull()\n",
    "reviews.city[city_null] = 'na'"
   ]
  },
  {
   "cell_type": "code",
   "execution_count": 62,
   "metadata": {
    "collapsed": false
   },
   "outputs": [],
   "source": [
    "type(reviews.city) \n",
    "reviews['review_city'] = reviews.city.str.cat(reviews.review, sep = ' ')"
   ]
  },
  {
   "cell_type": "code",
   "execution_count": 63,
   "metadata": {
    "collapsed": false
   },
   "outputs": [
    {
     "data": {
      "text/html": [
       "<div>\n",
       "<table border=\"1\" class=\"dataframe\">\n",
       "  <thead>\n",
       "    <tr style=\"text-align: right;\">\n",
       "      <th></th>\n",
       "      <th>_unit_id</th>\n",
       "      <th>_golden</th>\n",
       "      <th>_unit_state</th>\n",
       "      <th>_trusted_judgments</th>\n",
       "      <th>_last_judgment_at</th>\n",
       "      <th>policies_violated</th>\n",
       "      <th>policies_violated:confidence</th>\n",
       "      <th>city</th>\n",
       "      <th>policies_violated_gold</th>\n",
       "      <th>review</th>\n",
       "      <th>Unnamed: 10</th>\n",
       "      <th>rude</th>\n",
       "      <th>review_city</th>\n",
       "    </tr>\n",
       "  </thead>\n",
       "  <tbody>\n",
       "    <tr>\n",
       "      <th>0</th>\n",
       "      <td>679455653</td>\n",
       "      <td>False</td>\n",
       "      <td>finalized</td>\n",
       "      <td>3</td>\n",
       "      <td>2/21/15 0:36</td>\n",
       "      <td>RudeService\\nOrderProblem\\nFilthy</td>\n",
       "      <td>1.0\\n0.6667\\n0.6667</td>\n",
       "      <td>Atlanta</td>\n",
       "      <td>NaN</td>\n",
       "      <td>I'm not a huge mcds lover, but I've been to be...</td>\n",
       "      <td>NaN</td>\n",
       "      <td>1</td>\n",
       "      <td>Atlanta I'm not a huge mcds lover, but I've be...</td>\n",
       "    </tr>\n",
       "    <tr>\n",
       "      <th>1</th>\n",
       "      <td>679455654</td>\n",
       "      <td>False</td>\n",
       "      <td>finalized</td>\n",
       "      <td>3</td>\n",
       "      <td>2/21/15 0:27</td>\n",
       "      <td>RudeService</td>\n",
       "      <td>1</td>\n",
       "      <td>Atlanta</td>\n",
       "      <td>NaN</td>\n",
       "      <td>Terrible customer service. ŒæI came in at 9:30...</td>\n",
       "      <td>NaN</td>\n",
       "      <td>1</td>\n",
       "      <td>Atlanta Terrible customer service. ŒæI came in...</td>\n",
       "    </tr>\n",
       "  </tbody>\n",
       "</table>\n",
       "</div>"
      ],
      "text/plain": [
       "    _unit_id _golden _unit_state  _trusted_judgments _last_judgment_at  \\\n",
       "0  679455653   False   finalized                   3      2/21/15 0:36   \n",
       "1  679455654   False   finalized                   3      2/21/15 0:27   \n",
       "\n",
       "                   policies_violated policies_violated:confidence     city  \\\n",
       "0  RudeService\\nOrderProblem\\nFilthy          1.0\\n0.6667\\n0.6667  Atlanta   \n",
       "1                        RudeService                            1  Atlanta   \n",
       "\n",
       "   policies_violated_gold                                             review  \\\n",
       "0                     NaN  I'm not a huge mcds lover, but I've been to be...   \n",
       "1                     NaN  Terrible customer service. ŒæI came in at 9:30...   \n",
       "\n",
       "   Unnamed: 10  rude                                        review_city  \n",
       "0          NaN     1  Atlanta I'm not a huge mcds lover, but I've be...  \n",
       "1          NaN     1  Atlanta Terrible customer service. ŒæI came in...  "
      ]
     },
     "execution_count": 63,
     "metadata": {},
     "output_type": "execute_result"
    }
   ],
   "source": [
    "# check the first few rows\n",
    "reviews.head(2)"
   ]
  },
  {
   "cell_type": "code",
   "execution_count": 64,
   "metadata": {
    "collapsed": false
   },
   "outputs": [
    {
     "data": {
      "text/plain": [
       "1241    Los Angeles The only thing that saved this fas...\n",
       "4       Atlanta Well, it's McDonald's, so you know wha...\n",
       "1214    Los Angeles I don't usually review fast food r...\n",
       "20      Atlanta I had the McCafe Mocha and must say th...\n",
       "340     Las Vegas I agree with Douglas--this is one of...\n",
       "Name: review_city, dtype: object"
      ]
     },
     "execution_count": 64,
     "metadata": {},
     "output_type": "execute_result"
    }
   ],
   "source": [
    "# check to make new column is correct\n",
    "reviews.review_city.sample(5)"
   ]
  },
  {
   "cell_type": "code",
   "execution_count": 65,
   "metadata": {
    "collapsed": false
   },
   "outputs": [],
   "source": [
    "# Create new X feature matrix and y response series\n",
    "X_city = reviews.review_city\n",
    "y = reviews.rude"
   ]
  },
  {
   "cell_type": "code",
   "execution_count": 70,
   "metadata": {
    "collapsed": true
   },
   "outputs": [],
   "source": [
    "# define a function that accepts a vectorizer and calculates the accuracy\n",
    "def tokenize_test(vect):\n",
    "    result = {}\n",
    "    # create document-term matrices using the vectorizer\n",
    "    X_train_dtm = vect.fit_transform(X_train)\n",
    "    X_test_dtm = vect.transform(X_test)\n",
    "    \n",
    "    # print the number of features that were generated\n",
    "    feat = X_train_dtm.shape[1] \n",
    "    print 'Features: ', feat\n",
    "\n",
    "    # use Multinomial Naive Bayes to predict the star rating\n",
    "    nb = MultinomialNB()\n",
    "    nb.fit(X_train_dtm, y_train)\n",
    "    y_pred_probs_tune = nb.predict_proba(X_test_dtm)[:,1]\n",
    "    \n",
    "    # print the accuracy of its predictions\n",
    "    auc = metrics.roc_auc_score(y_test, y_pred_probs_tune)\n",
    "    print 'Accuracy: ', auc\n",
    "    result[feat] = auc\n",
    "    return result"
   ]
  },
  {
   "cell_type": "code",
   "execution_count": 71,
   "metadata": {
    "collapsed": false
   },
   "outputs": [
    {
     "name": "stdout",
     "output_type": "stream",
     "text": [
      "(1103,)\n",
      "(368,)\n",
      "(1103,)\n",
      "(368,)\n"
     ]
    }
   ],
   "source": [
    "# create new train/test split with the city information included\n",
    "X_train, X_test, y_train, y_test = train_test_split(X,y, random_state = 1)\n",
    "print X_train.shape\n",
    "print X_test.shape\n",
    "print y_train.shape\n",
    "print y_test.shape\n"
   ]
  },
  {
   "cell_type": "code",
   "execution_count": 72,
   "metadata": {
    "collapsed": false
   },
   "outputs": [
    {
     "name": "stdout",
     "output_type": "stream",
     "text": [
      "Features:  6700\n",
      "Accuracy:  0.854220314735\n",
      "Features:  6710\n",
      "Accuracy:  0.854220314735\n",
      "Features:  6720\n",
      "Accuracy:  0.854220314735\n",
      "Features:  6730\n",
      "Accuracy:  0.854347480528\n",
      "Features:  6740\n",
      "Accuracy:  0.8543951677\n",
      "Features:  6750\n",
      "Accuracy:  0.8543951677\n",
      "Features:  6760\n",
      "Accuracy:  0.854363376252\n",
      "Features:  6770\n",
      "Accuracy:  0.854124940391\n",
      "Features:  6780\n",
      "Accuracy:  0.854188523287\n",
      "Features:  6790\n",
      "Accuracy:  0.854188523287\n",
      "Features:  6800\n",
      "Accuracy:  0.854188523287\n"
     ]
    }
   ],
   "source": [
    "# apply new X feature matrix to the tokenize_test function to see impact on AUC \n",
    "for each in range(6700, 6801,10):\n",
    "    vect = CountVectorizer(stop_words='english', max_features=each)\n",
    "    result = tokenize_test(vect)"
   ]
  },
  {
   "cell_type": "markdown",
   "metadata": {},
   "source": [
    "### There was no improvement in my best model.  The max AUC is the same before and after the city information is included."
   ]
  },
  {
   "cell_type": "markdown",
   "metadata": {},
   "source": [
    "## Task 8 (Challenge)\n",
    "\n",
    "The **policies_violated:confidence** column may be useful, since it essentially represents a measurement of the training data quality. Let's see whether we can improve the AUC by only training the model using the highest-quality rows!\n",
    "\n",
    "To accomplish this, your first sub-task is to **calculate the mean confidence score for each row**, and then store those mean scores in a new column. For example, the confidence scores for the first row are `1.0\\r\\n0.6667\\r\\n0.6667`, so you should calculate a mean of `0.7778`. Here are the suggested steps:\n",
    "\n",
    "1. Using the [`Series.str.split()`](http://pandas.pydata.org/pandas-docs/stable/generated/pandas.Series.str.split.html) method, convert the **policies_violated:confidence** column into lists of one or more \"confidence scores\". Save the results as a new DataFrame column called **confidence_list**.\n",
    "2. Define a function that calculates the mean of a list of numbers, and pass that function to the [`Series.apply()`](http://pandas.pydata.org/pandas-docs/stable/generated/pandas.Series.apply.html) method of the **confidence_list** column. That will calculate the mean confidence score for each row. Save those scores in a new DataFrame column called **confidence_mean**.\n",
    "    - **Hint:** This [code snippet](http://chrisalbon.com/python/pandas_apply_operations_to_dataframes.html) may help you to understand the `Series.apply()` method."
   ]
  },
  {
   "cell_type": "code",
   "execution_count": 73,
   "metadata": {
    "collapsed": false
   },
   "outputs": [
    {
     "name": "stdout",
     "output_type": "stream",
     "text": [
      "(1471, 14)\n"
     ]
    }
   ],
   "source": [
    "# convert the polices_violated:confidence column into lists of one or more \"confidence scores\" which is the aversge\n",
    "# of each row.\n",
    "# Use the Series.str.split() method\n",
    "reviews['confidence_list'] = reviews['policies_violated:confidence'].str.split()\n",
    "print reviews.shape\n",
    "#print reviews.head(3)\n",
    "#reviews.describe()"
   ]
  },
  {
   "cell_type": "code",
   "execution_count": 74,
   "metadata": {
    "collapsed": false
   },
   "outputs": [
    {
     "data": {
      "text/plain": [
       "['1.0', '0.6667', '0.6667']"
      ]
     },
     "execution_count": 74,
     "metadata": {},
     "output_type": "execute_result"
    }
   ],
   "source": [
    "reviews.confidence_list[0]"
   ]
  },
  {
   "cell_type": "code",
   "execution_count": 75,
   "metadata": {
    "collapsed": false
   },
   "outputs": [],
   "source": [
    "# Define a function that calculates the mean of a list of numbers\n",
    "def list_average(some_list):\n",
    "    to_floats = [float(x) for x in some_list]\n",
    "    average = (sum(to_floats))/len(to_floats)\n",
    "    return average"
   ]
  },
  {
   "cell_type": "code",
   "execution_count": 76,
   "metadata": {
    "collapsed": false
   },
   "outputs": [
    {
     "data": {
      "text/html": [
       "<div>\n",
       "<table border=\"1\" class=\"dataframe\">\n",
       "  <thead>\n",
       "    <tr style=\"text-align: right;\">\n",
       "      <th></th>\n",
       "      <th>_unit_id</th>\n",
       "      <th>_golden</th>\n",
       "      <th>_unit_state</th>\n",
       "      <th>_trusted_judgments</th>\n",
       "      <th>_last_judgment_at</th>\n",
       "      <th>policies_violated</th>\n",
       "      <th>policies_violated:confidence</th>\n",
       "      <th>city</th>\n",
       "      <th>policies_violated_gold</th>\n",
       "      <th>review</th>\n",
       "      <th>Unnamed: 10</th>\n",
       "      <th>rude</th>\n",
       "      <th>review_city</th>\n",
       "      <th>confidence_list</th>\n",
       "      <th>confidence_mean</th>\n",
       "    </tr>\n",
       "  </thead>\n",
       "  <tbody>\n",
       "    <tr>\n",
       "      <th>0</th>\n",
       "      <td>679455653</td>\n",
       "      <td>False</td>\n",
       "      <td>finalized</td>\n",
       "      <td>3</td>\n",
       "      <td>2/21/15 0:36</td>\n",
       "      <td>RudeService\\nOrderProblem\\nFilthy</td>\n",
       "      <td>1.0\\n0.6667\\n0.6667</td>\n",
       "      <td>Atlanta</td>\n",
       "      <td>NaN</td>\n",
       "      <td>I'm not a huge mcds lover, but I've been to be...</td>\n",
       "      <td>NaN</td>\n",
       "      <td>1</td>\n",
       "      <td>Atlanta I'm not a huge mcds lover, but I've be...</td>\n",
       "      <td>[1.0, 0.6667, 0.6667]</td>\n",
       "      <td>0.7778</td>\n",
       "    </tr>\n",
       "    <tr>\n",
       "      <th>1</th>\n",
       "      <td>679455654</td>\n",
       "      <td>False</td>\n",
       "      <td>finalized</td>\n",
       "      <td>3</td>\n",
       "      <td>2/21/15 0:27</td>\n",
       "      <td>RudeService</td>\n",
       "      <td>1</td>\n",
       "      <td>Atlanta</td>\n",
       "      <td>NaN</td>\n",
       "      <td>Terrible customer service. ŒæI came in at 9:30...</td>\n",
       "      <td>NaN</td>\n",
       "      <td>1</td>\n",
       "      <td>Atlanta Terrible customer service. ŒæI came in...</td>\n",
       "      <td>[1]</td>\n",
       "      <td>1.0000</td>\n",
       "    </tr>\n",
       "    <tr>\n",
       "      <th>2</th>\n",
       "      <td>679455655</td>\n",
       "      <td>False</td>\n",
       "      <td>finalized</td>\n",
       "      <td>3</td>\n",
       "      <td>2/21/15 0:26</td>\n",
       "      <td>SlowService\\nOrderProblem</td>\n",
       "      <td>1.0\\n1.0</td>\n",
       "      <td>Atlanta</td>\n",
       "      <td>NaN</td>\n",
       "      <td>First they \"lost\" my order, actually they gave...</td>\n",
       "      <td>NaN</td>\n",
       "      <td>0</td>\n",
       "      <td>Atlanta First they \"lost\" my order, actually t...</td>\n",
       "      <td>[1.0, 1.0]</td>\n",
       "      <td>1.0000</td>\n",
       "    </tr>\n",
       "    <tr>\n",
       "      <th>3</th>\n",
       "      <td>679455656</td>\n",
       "      <td>False</td>\n",
       "      <td>finalized</td>\n",
       "      <td>3</td>\n",
       "      <td>2/21/15 0:27</td>\n",
       "      <td>na</td>\n",
       "      <td>0.6667</td>\n",
       "      <td>Atlanta</td>\n",
       "      <td>NaN</td>\n",
       "      <td>I see I'm not the only one giving 1 star. Only...</td>\n",
       "      <td>NaN</td>\n",
       "      <td>0</td>\n",
       "      <td>Atlanta I see I'm not the only one giving 1 st...</td>\n",
       "      <td>[0.6667]</td>\n",
       "      <td>0.6667</td>\n",
       "    </tr>\n",
       "    <tr>\n",
       "      <th>4</th>\n",
       "      <td>679455657</td>\n",
       "      <td>False</td>\n",
       "      <td>finalized</td>\n",
       "      <td>3</td>\n",
       "      <td>2/21/15 0:27</td>\n",
       "      <td>RudeService</td>\n",
       "      <td>1</td>\n",
       "      <td>Atlanta</td>\n",
       "      <td>NaN</td>\n",
       "      <td>Well, it's McDonald's, so you know what the fo...</td>\n",
       "      <td>NaN</td>\n",
       "      <td>1</td>\n",
       "      <td>Atlanta Well, it's McDonald's, so you know wha...</td>\n",
       "      <td>[1]</td>\n",
       "      <td>1.0000</td>\n",
       "    </tr>\n",
       "  </tbody>\n",
       "</table>\n",
       "</div>"
      ],
      "text/plain": [
       "    _unit_id _golden _unit_state  _trusted_judgments _last_judgment_at  \\\n",
       "0  679455653   False   finalized                   3      2/21/15 0:36   \n",
       "1  679455654   False   finalized                   3      2/21/15 0:27   \n",
       "2  679455655   False   finalized                   3      2/21/15 0:26   \n",
       "3  679455656   False   finalized                   3      2/21/15 0:27   \n",
       "4  679455657   False   finalized                   3      2/21/15 0:27   \n",
       "\n",
       "                   policies_violated policies_violated:confidence     city  \\\n",
       "0  RudeService\\nOrderProblem\\nFilthy          1.0\\n0.6667\\n0.6667  Atlanta   \n",
       "1                        RudeService                            1  Atlanta   \n",
       "2          SlowService\\nOrderProblem                     1.0\\n1.0  Atlanta   \n",
       "3                                 na                       0.6667  Atlanta   \n",
       "4                        RudeService                            1  Atlanta   \n",
       "\n",
       "   policies_violated_gold                                             review  \\\n",
       "0                     NaN  I'm not a huge mcds lover, but I've been to be...   \n",
       "1                     NaN  Terrible customer service. ŒæI came in at 9:30...   \n",
       "2                     NaN  First they \"lost\" my order, actually they gave...   \n",
       "3                     NaN  I see I'm not the only one giving 1 star. Only...   \n",
       "4                     NaN  Well, it's McDonald's, so you know what the fo...   \n",
       "\n",
       "   Unnamed: 10  rude                                        review_city  \\\n",
       "0          NaN     1  Atlanta I'm not a huge mcds lover, but I've be...   \n",
       "1          NaN     1  Atlanta Terrible customer service. ŒæI came in...   \n",
       "2          NaN     0  Atlanta First they \"lost\" my order, actually t...   \n",
       "3          NaN     0  Atlanta I see I'm not the only one giving 1 st...   \n",
       "4          NaN     1  Atlanta Well, it's McDonald's, so you know wha...   \n",
       "\n",
       "         confidence_list  confidence_mean  \n",
       "0  [1.0, 0.6667, 0.6667]           0.7778  \n",
       "1                    [1]           1.0000  \n",
       "2             [1.0, 1.0]           1.0000  \n",
       "3               [0.6667]           0.6667  \n",
       "4                    [1]           1.0000  "
      ]
     },
     "execution_count": 76,
     "metadata": {},
     "output_type": "execute_result"
    }
   ],
   "source": [
    "# Calculate the average of the 'confidence_list' column of the reviews DF usgin the Series.apply() method\n",
    "reviews['confidence_mean'] = reviews.confidence_list.apply(list_average)\n",
    "reviews.head(5)"
   ]
  },
  {
   "cell_type": "markdown",
   "metadata": {},
   "source": [
    "Your second sub-task is to **create a new DataFrame with only the highest-quality rows**, meaning those with a mean score of 1, and then repeat the model building and evaluation process with the new DataFrame. Here are the suggested steps:\n",
    "\n",
    "1. Create a new DataFrame that only includes the rows with a **confidence_mean** of 1. Compare the shapes of the original and new DataFrames.\n",
    "2. Redefine X and y using the new DataFrame, and re-split X and y into training and testing sets.\n",
    "3. Check to see whether this process increased or decreased the AUC of your **best model**.\n",
    "4. Try **re-tuning** CountVectorizer to maximize the AUC, to see if this strategy was worthwhile."
   ]
  },
  {
   "cell_type": "code",
   "execution_count": 77,
   "metadata": {
    "collapsed": false
   },
   "outputs": [
    {
     "name": "stdout",
     "output_type": "stream",
     "text": [
      "785\n"
     ]
    },
    {
     "data": {
      "text/plain": [
       "0    False\n",
       "1     True\n",
       "2     True\n",
       "3    False\n",
       "4     True\n",
       "Name: confidence_mean, dtype: bool"
      ]
     },
     "execution_count": 77,
     "metadata": {},
     "output_type": "execute_result"
    }
   ],
   "source": [
    "# identify those rows that cotain confidence_mean values equal to 1\n",
    "quality_rows = reviews['confidence_mean'] == 1\n",
    "# Use the sum function to see how many TRUE responses there are for comparison later with new DF\n",
    "# look at first 5 and comapre with DF head as a quick check that it worked correctly\n",
    "print sum(quality_rows)\n",
    "quality_rows[0:5]"
   ]
  },
  {
   "cell_type": "code",
   "execution_count": 78,
   "metadata": {
    "collapsed": false
   },
   "outputs": [
    {
     "name": "stdout",
     "output_type": "stream",
     "text": [
      "785\n",
      "785\n"
     ]
    },
    {
     "data": {
      "text/html": [
       "<div>\n",
       "<table border=\"1\" class=\"dataframe\">\n",
       "  <thead>\n",
       "    <tr style=\"text-align: right;\">\n",
       "      <th></th>\n",
       "      <th>_unit_id</th>\n",
       "      <th>_golden</th>\n",
       "      <th>_unit_state</th>\n",
       "      <th>_trusted_judgments</th>\n",
       "      <th>_last_judgment_at</th>\n",
       "      <th>policies_violated</th>\n",
       "      <th>policies_violated:confidence</th>\n",
       "      <th>city</th>\n",
       "      <th>policies_violated_gold</th>\n",
       "      <th>review</th>\n",
       "      <th>Unnamed: 10</th>\n",
       "      <th>rude</th>\n",
       "      <th>review_city</th>\n",
       "      <th>confidence_list</th>\n",
       "      <th>confidence_mean</th>\n",
       "    </tr>\n",
       "  </thead>\n",
       "  <tbody>\n",
       "    <tr>\n",
       "      <th>1</th>\n",
       "      <td>679455654</td>\n",
       "      <td>False</td>\n",
       "      <td>finalized</td>\n",
       "      <td>3</td>\n",
       "      <td>2/21/15 0:27</td>\n",
       "      <td>RudeService</td>\n",
       "      <td>1</td>\n",
       "      <td>Atlanta</td>\n",
       "      <td>NaN</td>\n",
       "      <td>Terrible customer service. ŒæI came in at 9:30...</td>\n",
       "      <td>NaN</td>\n",
       "      <td>1</td>\n",
       "      <td>Atlanta Terrible customer service. ŒæI came in...</td>\n",
       "      <td>[1]</td>\n",
       "      <td>1.0</td>\n",
       "    </tr>\n",
       "    <tr>\n",
       "      <th>2</th>\n",
       "      <td>679455655</td>\n",
       "      <td>False</td>\n",
       "      <td>finalized</td>\n",
       "      <td>3</td>\n",
       "      <td>2/21/15 0:26</td>\n",
       "      <td>SlowService\\nOrderProblem</td>\n",
       "      <td>1.0\\n1.0</td>\n",
       "      <td>Atlanta</td>\n",
       "      <td>NaN</td>\n",
       "      <td>First they \"lost\" my order, actually they gave...</td>\n",
       "      <td>NaN</td>\n",
       "      <td>0</td>\n",
       "      <td>Atlanta First they \"lost\" my order, actually t...</td>\n",
       "      <td>[1.0, 1.0]</td>\n",
       "      <td>1.0</td>\n",
       "    </tr>\n",
       "    <tr>\n",
       "      <th>4</th>\n",
       "      <td>679455657</td>\n",
       "      <td>False</td>\n",
       "      <td>finalized</td>\n",
       "      <td>3</td>\n",
       "      <td>2/21/15 0:27</td>\n",
       "      <td>RudeService</td>\n",
       "      <td>1</td>\n",
       "      <td>Atlanta</td>\n",
       "      <td>NaN</td>\n",
       "      <td>Well, it's McDonald's, so you know what the fo...</td>\n",
       "      <td>NaN</td>\n",
       "      <td>1</td>\n",
       "      <td>Atlanta Well, it's McDonald's, so you know wha...</td>\n",
       "      <td>[1]</td>\n",
       "      <td>1.0</td>\n",
       "    </tr>\n",
       "    <tr>\n",
       "      <th>9</th>\n",
       "      <td>679455662</td>\n",
       "      <td>False</td>\n",
       "      <td>finalized</td>\n",
       "      <td>3</td>\n",
       "      <td>2/21/15 0:12</td>\n",
       "      <td>na</td>\n",
       "      <td>1</td>\n",
       "      <td>Atlanta</td>\n",
       "      <td>NaN</td>\n",
       "      <td>This McDonald's has gotten much better. Usuall...</td>\n",
       "      <td>NaN</td>\n",
       "      <td>0</td>\n",
       "      <td>Atlanta This McDonald's has gotten much better...</td>\n",
       "      <td>[1]</td>\n",
       "      <td>1.0</td>\n",
       "    </tr>\n",
       "    <tr>\n",
       "      <th>10</th>\n",
       "      <td>679455663</td>\n",
       "      <td>False</td>\n",
       "      <td>finalized</td>\n",
       "      <td>3</td>\n",
       "      <td>2/21/15 0:38</td>\n",
       "      <td>SlowService</td>\n",
       "      <td>1</td>\n",
       "      <td>Atlanta</td>\n",
       "      <td>NaN</td>\n",
       "      <td>Let's start here only reason I came into McDon...</td>\n",
       "      <td>NaN</td>\n",
       "      <td>0</td>\n",
       "      <td>Atlanta Let's start here only reason I came in...</td>\n",
       "      <td>[1]</td>\n",
       "      <td>1.0</td>\n",
       "    </tr>\n",
       "  </tbody>\n",
       "</table>\n",
       "</div>"
      ],
      "text/plain": [
       "     _unit_id _golden _unit_state  _trusted_judgments _last_judgment_at  \\\n",
       "1   679455654   False   finalized                   3      2/21/15 0:27   \n",
       "2   679455655   False   finalized                   3      2/21/15 0:26   \n",
       "4   679455657   False   finalized                   3      2/21/15 0:27   \n",
       "9   679455662   False   finalized                   3      2/21/15 0:12   \n",
       "10  679455663   False   finalized                   3      2/21/15 0:38   \n",
       "\n",
       "            policies_violated policies_violated:confidence     city  \\\n",
       "1                 RudeService                            1  Atlanta   \n",
       "2   SlowService\\nOrderProblem                     1.0\\n1.0  Atlanta   \n",
       "4                 RudeService                            1  Atlanta   \n",
       "9                          na                            1  Atlanta   \n",
       "10                SlowService                            1  Atlanta   \n",
       "\n",
       "    policies_violated_gold                                             review  \\\n",
       "1                      NaN  Terrible customer service. ŒæI came in at 9:30...   \n",
       "2                      NaN  First they \"lost\" my order, actually they gave...   \n",
       "4                      NaN  Well, it's McDonald's, so you know what the fo...   \n",
       "9                      NaN  This McDonald's has gotten much better. Usuall...   \n",
       "10                     NaN  Let's start here only reason I came into McDon...   \n",
       "\n",
       "    Unnamed: 10  rude                                        review_city  \\\n",
       "1           NaN     1  Atlanta Terrible customer service. ŒæI came in...   \n",
       "2           NaN     0  Atlanta First they \"lost\" my order, actually t...   \n",
       "4           NaN     1  Atlanta Well, it's McDonald's, so you know wha...   \n",
       "9           NaN     0  Atlanta This McDonald's has gotten much better...   \n",
       "10          NaN     0  Atlanta Let's start here only reason I came in...   \n",
       "\n",
       "   confidence_list  confidence_mean  \n",
       "1              [1]              1.0  \n",
       "2       [1.0, 1.0]              1.0  \n",
       "4              [1]              1.0  \n",
       "9              [1]              1.0  \n",
       "10             [1]              1.0  "
      ]
     },
     "execution_count": 78,
     "metadata": {},
     "output_type": "execute_result"
    }
   ],
   "source": [
    "# create new DF with only the quality rows\n",
    "reviews_quality = reviews[quality_rows]\n",
    "# verify the shape to make sure there are the same number of rows as there are TRUE values in quality_rows\n",
    "print reviews_quality.shape[0]\n",
    "print sum(quality_rows)\n",
    "# Look at first few rows of the new DF as a check\n",
    "reviews_quality.head()"
   ]
  },
  {
   "cell_type": "code",
   "execution_count": 79,
   "metadata": {
    "collapsed": false
   },
   "outputs": [
    {
     "name": "stdout",
     "output_type": "stream",
     "text": [
      "(785,)\n",
      "(785,)\n"
     ]
    }
   ],
   "source": [
    "# Create new X feature matrix and y response series for use in train/test split and DTM creation\n",
    "X = reviews_quality.review_city\n",
    "y = reviews_quality.rude\n",
    "print X.shape\n",
    "print y.shape"
   ]
  },
  {
   "cell_type": "code",
   "execution_count": 80,
   "metadata": {
    "collapsed": false
   },
   "outputs": [
    {
     "name": "stdout",
     "output_type": "stream",
     "text": [
      "(588,)\n",
      "(197,)\n",
      "(588,)\n",
      "(197,)\n"
     ]
    }
   ],
   "source": [
    "# create new train/test splits\n",
    "X_train, X_test, y_train, y_test = train_test_split(X,y,random_state =1)\n",
    "# check the shapes\n",
    "print X_train.shape\n",
    "print X_test.shape\n",
    "print y_train.shape\n",
    "print y_test.shape"
   ]
  },
  {
   "cell_type": "code",
   "execution_count": 81,
   "metadata": {
    "collapsed": false
   },
   "outputs": [
    {
     "data": {
      "text/plain": [
       "<588x4632 sparse matrix of type '<type 'numpy.int64'>'\n",
       "\twith 20369 stored elements in Compressed Sparse Row format>"
      ]
     },
     "execution_count": 81,
     "metadata": {},
     "output_type": "execute_result"
    }
   ],
   "source": [
    "# create new DTMs for use in assessing impact on AUC of highest scoring model so far using best model\n",
    "vect = CountVectorizer(stop_words='english', max_features=6750)\n",
    "X_train_dtm = vect.fit_transform(X_train)\n",
    "X_train_dtm"
   ]
  },
  {
   "cell_type": "code",
   "execution_count": 82,
   "metadata": {
    "collapsed": false
   },
   "outputs": [
    {
     "data": {
      "text/plain": [
       "<197x4632 sparse matrix of type '<type 'numpy.int64'>'\n",
       "\twith 5549 stored elements in Compressed Sparse Row format>"
      ]
     },
     "execution_count": 82,
     "metadata": {},
     "output_type": "execute_result"
    }
   ],
   "source": [
    "# create X_test_DTM\n",
    "X_test_dtm = vect.transform(X_test)\n",
    "X_test_dtm"
   ]
  },
  {
   "cell_type": "code",
   "execution_count": 83,
   "metadata": {
    "collapsed": false
   },
   "outputs": [
    {
     "data": {
      "text/plain": [
       "MultinomialNB(alpha=1.0, class_prior=None, fit_prior=True)"
      ]
     },
     "execution_count": 83,
     "metadata": {},
     "output_type": "execute_result"
    }
   ],
   "source": [
    "# Comparison best model performance looking only at \"quality data\"\n",
    "from sklearn.naive_bayes import MultinomialNB\n",
    "nb = MultinomialNB()\n",
    "nb.fit(X_train_dtm, y_train)"
   ]
  },
  {
   "cell_type": "code",
   "execution_count": 84,
   "metadata": {
    "collapsed": false
   },
   "outputs": [
    {
     "data": {
      "text/plain": [
       "0.84641284641284642"
      ]
     },
     "execution_count": 84,
     "metadata": {},
     "output_type": "execute_result"
    }
   ],
   "source": [
    "# determine probablities that test reviews are scored a 1, ie containing RudeService\n",
    "y_pred_probs_quality = nb.predict_proba(X_test_dtm)[:,1]\n",
    "metrics.roc_auc_score(y_test, y_pred_probs_quality)"
   ]
  },
  {
   "cell_type": "markdown",
   "metadata": {},
   "source": [
    "### Grabbing only those rows with the confidence quality means equat to 1 did NOT increase AUC.  \n",
    "- This may be due to the fact that there are 50% fewer rows in the newer set.  "
   ]
  },
  {
   "cell_type": "markdown",
   "metadata": {},
   "source": [
    "### Part 3 - Perform parameter tuning with the new DF to see if AUC can be increased\n",
    "- check how new DF peforms with CounteVectorizer defaults set for creating the DTMs\n",
    "- remove stop-words and/or frequent terms\n",
    "- limit max_features\n",
    "- set max and min document frequency requirements\n",
    "- set the n_gram range\n",
    "- try combos of the above"
   ]
  },
  {
   "cell_type": "code",
   "execution_count": 85,
   "metadata": {
    "collapsed": false
   },
   "outputs": [],
   "source": [
    "# Check the perfomance of the CountVectorizer defaults\n",
    "vect = CountVectorizer()\n",
    "X_train_dtm = vect.fit_transform(X_train)\n",
    "X_test_dtm = vect.transform(X_test)"
   ]
  },
  {
   "cell_type": "code",
   "execution_count": 86,
   "metadata": {
    "collapsed": false
   },
   "outputs": [
    {
     "data": {
      "text/plain": [
       "<588x4895 sparse matrix of type '<type 'numpy.int64'>'\n",
       "\twith 35041 stored elements in Compressed Sparse Row format>"
      ]
     },
     "execution_count": 86,
     "metadata": {},
     "output_type": "execute_result"
    }
   ],
   "source": [
    "#check the dims\n",
    "X_train_dtm"
   ]
  },
  {
   "cell_type": "code",
   "execution_count": 87,
   "metadata": {
    "collapsed": false
   },
   "outputs": [
    {
     "data": {
      "text/plain": [
       "<197x4895 sparse matrix of type '<type 'numpy.int64'>'\n",
       "\twith 10228 stored elements in Compressed Sparse Row format>"
      ]
     },
     "execution_count": 87,
     "metadata": {},
     "output_type": "execute_result"
    }
   ],
   "source": [
    "# check the dims\n",
    "X_test_dtm"
   ]
  },
  {
   "cell_type": "code",
   "execution_count": 88,
   "metadata": {
    "collapsed": false
   },
   "outputs": [
    {
     "data": {
      "text/plain": [
       "MultinomialNB(alpha=1.0, class_prior=None, fit_prior=True)"
      ]
     },
     "execution_count": 88,
     "metadata": {},
     "output_type": "execute_result"
    }
   ],
   "source": [
    "# create new nb model with updated vect\n",
    "nb.fit(X_train_dtm, y_train)"
   ]
  },
  {
   "cell_type": "code",
   "execution_count": 89,
   "metadata": {
    "collapsed": false
   },
   "outputs": [
    {
     "data": {
      "text/plain": [
       "array([  2.65508413e-02,   2.88531571e-01,   1.10810175e-05,\n",
       "         9.28123152e-07,   3.12025046e-11])"
      ]
     },
     "execution_count": 89,
     "metadata": {},
     "output_type": "execute_result"
    }
   ],
   "source": [
    "# determine probablity the new model assigns a value of 1 to a given review\n",
    "y_pred_probs_quality = nb.predict_proba(X_test_dtm)[:,1]\n",
    "y_pred_probs_quality[0:5]"
   ]
  },
  {
   "cell_type": "code",
   "execution_count": 90,
   "metadata": {
    "collapsed": false
   },
   "outputs": [
    {
     "data": {
      "text/plain": [
       "0.8534058534058534"
      ]
     },
     "execution_count": 90,
     "metadata": {},
     "output_type": "execute_result"
    }
   ],
   "source": [
    "# determine the AUC for the higher quality dataframe  using the default vect parameters\n",
    "# Notice this is an imporvement on the AUC of 0.84196471149260854 for the original entire DF\n",
    "metrics.roc_auc_score(y_test, y_pred_probs_quality)"
   ]
  },
  {
   "cell_type": "code",
   "execution_count": 91,
   "metadata": {
    "collapsed": true
   },
   "outputs": [],
   "source": [
    "# set vect lowercase to False\n",
    "vect = CountVectorizer(lowercase=False)\n",
    "X_train_dtm = vect.fit_transform(X_train)\n",
    "X_test_dtm = vect.transform(X_test)"
   ]
  },
  {
   "cell_type": "code",
   "execution_count": 92,
   "metadata": {
    "collapsed": false
   },
   "outputs": [
    {
     "data": {
      "text/plain": [
       "0.84751359751359756"
      ]
     },
     "execution_count": 92,
     "metadata": {},
     "output_type": "execute_result"
    }
   ],
   "source": [
    "nb.fit(X_train_dtm, y_train)\n",
    "y_pred_probs_quality = nb.predict_proba(X_test_dtm)[:,1]\n",
    "metrics.roc_auc_score(y_test,y_pred_probs_quality)"
   ]
  },
  {
   "cell_type": "code",
   "execution_count": 93,
   "metadata": {
    "collapsed": true
   },
   "outputs": [],
   "source": [
    "# Now try by setting the n_gram values\n",
    "vect = CountVectorizer(ngram_range=(1,2))\n",
    "X_train_dtm = vect.fit_transform(X_train)\n",
    "X_test_dtm = vect.transform(X_test)"
   ]
  },
  {
   "cell_type": "code",
   "execution_count": 94,
   "metadata": {
    "collapsed": false
   },
   "outputs": [
    {
     "data": {
      "text/plain": [
       "0.79351204351204352"
      ]
     },
     "execution_count": 94,
     "metadata": {},
     "output_type": "execute_result"
    }
   ],
   "source": [
    "# This results in a lower AUC\n",
    "nb.fit(X_train_dtm, y_train)\n",
    "y_pred_probs_quality = nb.predict_proba(X_test_dtm)[:,1]\n",
    "metrics.roc_auc_score(y_test,y_pred_probs_quality)"
   ]
  },
  {
   "cell_type": "code",
   "execution_count": 95,
   "metadata": {
    "collapsed": true
   },
   "outputs": [],
   "source": [
    "# define a function that accepts a vectorizer and calculates the accuracy\n",
    "def tokenize_test(vect):\n",
    "    result = {}\n",
    "    # create document-term matrices using the vectorizer\n",
    "    X_train_dtm = vect.fit_transform(X_train)\n",
    "    X_test_dtm = vect.transform(X_test)\n",
    "    \n",
    "    # print the number of features that were generated\n",
    "    feat = X_train_dtm.shape[1] \n",
    "    print 'Features: ', feat\n",
    "\n",
    "    # use Multinomial Naive Bayes to predict the star rating\n",
    "    nb = MultinomialNB()\n",
    "    nb.fit(X_train_dtm, y_train)\n",
    "    y_pred_probs_tune = nb.predict_proba(X_test_dtm)[:,1]\n",
    "    \n",
    "    # print the accuracy of its predictions\n",
    "    auc = metrics.roc_auc_score(y_test, y_pred_probs_tune)\n",
    "    print 'Accuracy: ', auc\n",
    "    result[feat] = auc\n",
    "    return result"
   ]
  },
  {
   "cell_type": "code",
   "execution_count": 96,
   "metadata": {
    "collapsed": false
   },
   "outputs": [
    {
     "name": "stdout",
     "output_type": "stream",
     "text": [
      "Features: 600\n",
      "AUC: 0.885716135716\n",
      "\n",
      "Features: 610\n",
      "AUC: 0.88986013986\n",
      "\n",
      "Features: 620\n",
      "AUC: 0.885586635587\n",
      "\n",
      "Features: 630\n",
      "AUC: 0.878334628335\n",
      "\n",
      "Features: 640\n",
      "AUC: 0.87691012691\n",
      "\n",
      "Features: 650\n",
      "AUC: 0.877946127946\n",
      "\n",
      "Features: 660\n",
      "AUC: 0.878075628076\n",
      "\n",
      "Features: 670\n",
      "AUC: 0.870953120953\n",
      "\n",
      "Features: 680\n",
      "AUC: 0.869528619529\n",
      "\n",
      "Features: 690\n",
      "AUC: 0.864737114737\n",
      "\n",
      "Features: 700\n",
      "AUC: 0.863571613572\n",
      "\n"
     ]
    }
   ],
   "source": [
    "# Look at limiting the number of features\n",
    "features = range(600,701,10)\n",
    "for feature in features:\n",
    "    vect = CountVectorizer(max_features=feature)\n",
    "    X_train_dtm = vect.fit_transform(X_train)\n",
    "    X_test_dtm = vect.transform(X_test)\n",
    "    print \"Features:\", feature\n",
    "    nb.fit(X_train_dtm, y_train)\n",
    "    y_pred_probs = nb.predict_proba(X_test_dtm)[:,1]\n",
    "    print \"AUC:\", metrics.roc_auc_score(y_test,y_pred_probs)\n",
    "    print"
   ]
  },
  {
   "cell_type": "code",
   "execution_count": 97,
   "metadata": {
    "collapsed": false
   },
   "outputs": [
    {
     "name": "stdout",
     "output_type": "stream",
     "text": [
      "0.1\n",
      "Features:  4786\n",
      "Accuracy:  0.821030821031\n",
      "0.2\n",
      "Features:  4846\n",
      "Accuracy:  0.836635586636\n",
      "0.3\n",
      "Features:  4873\n",
      "Accuracy:  0.85224035224\n",
      "0.4\n",
      "Features:  4881\n",
      "Accuracy:  0.855477855478\n",
      "0.5\n",
      "Features:  4886\n",
      "Accuracy:  0.855089355089\n",
      "0.6\n",
      "Features:  4892\n",
      "Accuracy:  0.853276353276\n",
      "0.7\n",
      "Features:  4892\n",
      "Accuracy:  0.853276353276\n",
      "0.8\n",
      "Features:  4894\n",
      "Accuracy:  0.853988603989\n",
      "0.9\n",
      "Features:  4895\n",
      "Accuracy:  0.853405853406\n"
     ]
    }
   ],
   "source": [
    "# limit the max document frequency\n",
    "df_range = [x/10. for x in range(1,10,1)]\n",
    "for df in df_range:\n",
    "    print df\n",
    "    vect = CountVectorizer(max_df = df)\n",
    "    tokenize_test(vect)"
   ]
  },
  {
   "cell_type": "code",
   "execution_count": 99,
   "metadata": {
    "collapsed": false
   },
   "outputs": [
    {
     "name": "stdout",
     "output_type": "stream",
     "text": [
      "1\n",
      "Features:  4895\n",
      "Accuracy:  0.853405853406\n",
      "2\n",
      "Features:  2233\n",
      "Accuracy:  0.857938357938\n",
      "3\n",
      "Features:  1559\n",
      "Accuracy:  0.872053872054\n",
      "4\n",
      "Features:  1242\n",
      "Accuracy:  0.867845117845\n",
      "5\n",
      "Features:  1032\n",
      "Accuracy:  0.861693861694\n",
      "6\n",
      "Features:  902\n",
      "Accuracy:  0.863053613054\n",
      "7\n",
      "Features:  818\n",
      "Accuracy:  0.868881118881\n",
      "8\n",
      "Features:  721\n",
      "Accuracy:  0.864866614867\n",
      "9\n",
      "Features:  653\n",
      "Accuracy:  0.882996632997\n"
     ]
    }
   ],
   "source": [
    "# limit the min document frequence\n",
    "df_range = [x for x in range(1,10,1)]\n",
    "for df in df_range:\n",
    "    print df\n",
    "    vect = CountVectorizer(min_df = df)\n",
    "    tokenize_test(vect)"
   ]
  },
  {
   "cell_type": "markdown",
   "metadata": {},
   "source": [
    "#### Using only those rows that have a confidence_mean of 1 for the quaility of the observation, did not improve the overall performance of my previous model.  However, using this higher quality data and limiting the number of features to around 600-610 did produce a more accurate model with an AUC of 88.98%, compared to the previous best performing model which obtained a max AUC of 85.4%."
   ]
  },
  {
   "cell_type": "markdown",
   "metadata": {},
   "source": [
    "## Task 9 (Challenge)\n",
    "\n",
    "New comments have been submitted to the McDonald's website, and you need to **score them with the likelihood** that they are referring to rude service.\n",
    "\n",
    "1. Before making predictions on out-of-sample data, it is important to re-train your model on all relevant data using the tuning parameters and preprocessing steps that produced the best AUC above.\n",
    "    - In other words, X should be defined using either **all rows** or **only those rows with a confidence_mean of 1**, whichever produced a better AUC above.\n",
    "    - X should refer to either the **review column** or the **review_city column**, whichever produced a better AUC above.\n",
    "    - CountVectorizer should be instantiated with the **tuning parameters** that produced the best AUC above.\n",
    "    - **`train_test_split()`** should not be used during this process.\n",
    "2. Build a document-term matrix (from X) called **X_dtm**, and examine its shape.\n",
    "3. Read the new comments stored in **`mcdonalds_new.csv`** into a DataFrame called **new_comments**, and examine it.\n",
    "4. If your model uses a **review_city** column, create that column in the new_comments DataFrame. (Otherwise, skip this step.)\n",
    "5. Build a document_term matrix (from the **new_comments** DataFrame) called **new_dtm**, and examine its shape.\n",
    "6. Train your best model (Naive Bayes or logistic regression) using **X_dtm** and **y**.\n",
    "7. Predict the \"rude probability\" for each comment in **new_dtm**, and store the probabilities in an object called **new_pred_prob**.\n",
    "8. Print the **full text** for each new comment alongside its **\"rude probability\"**. (You may need to [increase the max_colwidth](http://pandas.pydata.org/pandas-docs/stable/options.html) to see the full text.) Examine the results, and comment on how well you think the model performed!"
   ]
  },
  {
   "cell_type": "markdown",
   "metadata": {},
   "source": [
    "### Re-train the model on all the relevant data with the tuning parameters explored above:\n",
    "1. Use only those rows that contain confidence_mean of 1 (ie, use DF reviews_quality\n",
    "2. Use the NaiveBayes classification model\n",
    "3. Set the max_features in the CountVectorizer to 610 #should this be upped to a proportion of the terms rather than a fixed number?\n",
    "4. There was no difference in the max AUC achieved with and without city info included, so leave in to see if it does have an impact with more observations taken into consideration"
   ]
  },
  {
   "cell_type": "code",
   "execution_count": 211,
   "metadata": {
    "collapsed": false
   },
   "outputs": [
    {
     "name": "stdout",
     "output_type": "stream",
     "text": [
      "(785, 15)\n"
     ]
    },
    {
     "data": {
      "text/html": [
       "<div>\n",
       "<table border=\"1\" class=\"dataframe\">\n",
       "  <thead>\n",
       "    <tr style=\"text-align: right;\">\n",
       "      <th></th>\n",
       "      <th>_unit_id</th>\n",
       "      <th>_golden</th>\n",
       "      <th>_unit_state</th>\n",
       "      <th>_trusted_judgments</th>\n",
       "      <th>_last_judgment_at</th>\n",
       "      <th>policies_violated</th>\n",
       "      <th>policies_violated:confidence</th>\n",
       "      <th>city</th>\n",
       "      <th>policies_violated_gold</th>\n",
       "      <th>review</th>\n",
       "      <th>Unnamed: 10</th>\n",
       "      <th>rude</th>\n",
       "      <th>review_city</th>\n",
       "      <th>confidence_list</th>\n",
       "      <th>confidence_mean</th>\n",
       "    </tr>\n",
       "  </thead>\n",
       "  <tbody>\n",
       "    <tr>\n",
       "      <th>1</th>\n",
       "      <td>679455654</td>\n",
       "      <td>False</td>\n",
       "      <td>finalized</td>\n",
       "      <td>3</td>\n",
       "      <td>2/21/15 0:27</td>\n",
       "      <td>RudeService</td>\n",
       "      <td>1</td>\n",
       "      <td>Atlanta</td>\n",
       "      <td>NaN</td>\n",
       "      <td>Terrible customer service. ŒæI came in at 9:30...</td>\n",
       "      <td>NaN</td>\n",
       "      <td>1</td>\n",
       "      <td>Atlanta Terrible customer service. ŒæI came in...</td>\n",
       "      <td>[1]</td>\n",
       "      <td>1.0</td>\n",
       "    </tr>\n",
       "    <tr>\n",
       "      <th>2</th>\n",
       "      <td>679455655</td>\n",
       "      <td>False</td>\n",
       "      <td>finalized</td>\n",
       "      <td>3</td>\n",
       "      <td>2/21/15 0:26</td>\n",
       "      <td>SlowService\\nOrderProblem</td>\n",
       "      <td>1.0\\n1.0</td>\n",
       "      <td>Atlanta</td>\n",
       "      <td>NaN</td>\n",
       "      <td>First they \"lost\" my order, actually they gave...</td>\n",
       "      <td>NaN</td>\n",
       "      <td>0</td>\n",
       "      <td>Atlanta First they \"lost\" my order, actually t...</td>\n",
       "      <td>[1.0, 1.0]</td>\n",
       "      <td>1.0</td>\n",
       "    </tr>\n",
       "    <tr>\n",
       "      <th>4</th>\n",
       "      <td>679455657</td>\n",
       "      <td>False</td>\n",
       "      <td>finalized</td>\n",
       "      <td>3</td>\n",
       "      <td>2/21/15 0:27</td>\n",
       "      <td>RudeService</td>\n",
       "      <td>1</td>\n",
       "      <td>Atlanta</td>\n",
       "      <td>NaN</td>\n",
       "      <td>Well, it's McDonald's, so you know what the fo...</td>\n",
       "      <td>NaN</td>\n",
       "      <td>1</td>\n",
       "      <td>Atlanta Well, it's McDonald's, so you know wha...</td>\n",
       "      <td>[1]</td>\n",
       "      <td>1.0</td>\n",
       "    </tr>\n",
       "  </tbody>\n",
       "</table>\n",
       "</div>"
      ],
      "text/plain": [
       "    _unit_id _golden _unit_state  _trusted_judgments _last_judgment_at  \\\n",
       "1  679455654   False   finalized                   3      2/21/15 0:27   \n",
       "2  679455655   False   finalized                   3      2/21/15 0:26   \n",
       "4  679455657   False   finalized                   3      2/21/15 0:27   \n",
       "\n",
       "           policies_violated policies_violated:confidence     city  \\\n",
       "1                RudeService                            1  Atlanta   \n",
       "2  SlowService\\nOrderProblem                     1.0\\n1.0  Atlanta   \n",
       "4                RudeService                            1  Atlanta   \n",
       "\n",
       "   policies_violated_gold                                             review  \\\n",
       "1                     NaN  Terrible customer service. ŒæI came in at 9:30...   \n",
       "2                     NaN  First they \"lost\" my order, actually they gave...   \n",
       "4                     NaN  Well, it's McDonald's, so you know what the fo...   \n",
       "\n",
       "   Unnamed: 10  rude                                        review_city  \\\n",
       "1          NaN     1  Atlanta Terrible customer service. ŒæI came in...   \n",
       "2          NaN     0  Atlanta First they \"lost\" my order, actually t...   \n",
       "4          NaN     1  Atlanta Well, it's McDonald's, so you know wha...   \n",
       "\n",
       "  confidence_list  confidence_mean  \n",
       "1             [1]              1.0  \n",
       "2      [1.0, 1.0]              1.0  \n",
       "4             [1]              1.0  "
      ]
     },
     "execution_count": 211,
     "metadata": {},
     "output_type": "execute_result"
    }
   ],
   "source": [
    "# Review the reviews_quality DF\n",
    "print reviews_quality.shape\n",
    "reviews_quality.head(3)"
   ]
  },
  {
   "cell_type": "code",
   "execution_count": 123,
   "metadata": {
    "collapsed": false
   },
   "outputs": [],
   "source": [
    "# set the X feature matrix equal to the reviews only with confidence_mean of 1 with the city info included\n",
    "X = reviews_quality"
   ]
  },
  {
   "cell_type": "code",
   "execution_count": 124,
   "metadata": {
    "collapsed": true
   },
   "outputs": [],
   "source": [
    "# instantiate CountVectorizer and set optimal tuning parameters based on evaluation of AUC above\n",
    "# for this model that is to remove english stop_words and to limit the max features to 610\n",
    "vect = CountVectorizer(stop_words='english', max_features=610)"
   ]
  },
  {
   "cell_type": "code",
   "execution_count": 125,
   "metadata": {
    "collapsed": true
   },
   "outputs": [],
   "source": [
    "# build the DTM from X\n",
    "X_dtm = vect.fit_transform(X.review_city)"
   ]
  },
  {
   "cell_type": "code",
   "execution_count": 126,
   "metadata": {
    "collapsed": false
   },
   "outputs": [
    {
     "data": {
      "text/html": [
       "<div>\n",
       "<table border=\"1\" class=\"dataframe\">\n",
       "  <thead>\n",
       "    <tr style=\"text-align: right;\">\n",
       "      <th></th>\n",
       "      <th>city</th>\n",
       "      <th>review</th>\n",
       "    </tr>\n",
       "  </thead>\n",
       "  <tbody>\n",
       "    <tr>\n",
       "      <th>0</th>\n",
       "      <td>Las Vegas</td>\n",
       "      <td>Went through the drive through and ordered a #...</td>\n",
       "    </tr>\n",
       "    <tr>\n",
       "      <th>1</th>\n",
       "      <td>Chicago</td>\n",
       "      <td>Phenomenal experience. Efficient and friendly ...</td>\n",
       "    </tr>\n",
       "    <tr>\n",
       "      <th>2</th>\n",
       "      <td>Los Angeles</td>\n",
       "      <td>Ghetto lady helped me at the drive thru. Very ...</td>\n",
       "    </tr>\n",
       "    <tr>\n",
       "      <th>3</th>\n",
       "      <td>New York</td>\n",
       "      <td>Close to my workplace. It was well manged befo...</td>\n",
       "    </tr>\n",
       "    <tr>\n",
       "      <th>4</th>\n",
       "      <td>Portland</td>\n",
       "      <td>I've made at least 3 visits to this particular...</td>\n",
       "    </tr>\n",
       "  </tbody>\n",
       "</table>\n",
       "</div>"
      ],
      "text/plain": [
       "          city                                             review\n",
       "0    Las Vegas  Went through the drive through and ordered a #...\n",
       "1      Chicago  Phenomenal experience. Efficient and friendly ...\n",
       "2  Los Angeles  Ghetto lady helped me at the drive thru. Very ...\n",
       "3     New York  Close to my workplace. It was well manged befo...\n",
       "4     Portland  I've made at least 3 visits to this particular..."
      ]
     },
     "execution_count": 126,
     "metadata": {},
     "output_type": "execute_result"
    }
   ],
   "source": [
    "# load in the OOS mcdonalds comments into a new DF and examine it\n",
    "new_comments = pd.read_csv('../data/mcdonalds_new.csv')\n",
    "new_comments.head()"
   ]
  },
  {
   "cell_type": "code",
   "execution_count": 127,
   "metadata": {
    "collapsed": false
   },
   "outputs": [
    {
     "data": {
      "text/html": [
       "<div>\n",
       "<table border=\"1\" class=\"dataframe\">\n",
       "  <thead>\n",
       "    <tr style=\"text-align: right;\">\n",
       "      <th></th>\n",
       "      <th>city</th>\n",
       "      <th>review</th>\n",
       "    </tr>\n",
       "  </thead>\n",
       "  <tbody>\n",
       "    <tr>\n",
       "      <th>5</th>\n",
       "      <td>Houston</td>\n",
       "      <td>Why did I revisited this McDonald's  again.  I...</td>\n",
       "    </tr>\n",
       "    <tr>\n",
       "      <th>6</th>\n",
       "      <td>Atlanta</td>\n",
       "      <td>This specific McDonald's is the bar I hold all...</td>\n",
       "    </tr>\n",
       "    <tr>\n",
       "      <th>7</th>\n",
       "      <td>Dallas</td>\n",
       "      <td>My friend and I stopped in to get a late night...</td>\n",
       "    </tr>\n",
       "    <tr>\n",
       "      <th>8</th>\n",
       "      <td>Cleveland</td>\n",
       "      <td>Friendly people but completely unable to deliv...</td>\n",
       "    </tr>\n",
       "    <tr>\n",
       "      <th>9</th>\n",
       "      <td>NaN</td>\n",
       "      <td>Having visited many McDonald's over the years,...</td>\n",
       "    </tr>\n",
       "  </tbody>\n",
       "</table>\n",
       "</div>"
      ],
      "text/plain": [
       "        city                                             review\n",
       "5    Houston  Why did I revisited this McDonald's  again.  I...\n",
       "6    Atlanta  This specific McDonald's is the bar I hold all...\n",
       "7     Dallas  My friend and I stopped in to get a late night...\n",
       "8  Cleveland  Friendly people but completely unable to deliv...\n",
       "9        NaN  Having visited many McDonald's over the years,..."
      ]
     },
     "execution_count": 127,
     "metadata": {},
     "output_type": "execute_result"
    }
   ],
   "source": [
    "# look at last few rows\n",
    "new_comments.tail()"
   ]
  },
  {
   "cell_type": "code",
   "execution_count": 128,
   "metadata": {
    "collapsed": false
   },
   "outputs": [
    {
     "name": "stdout",
     "output_type": "stream",
     "text": [
      "0    False\n",
      "1    False\n",
      "2    False\n",
      "3    False\n",
      "4    False\n",
      "5    False\n",
      "6    False\n",
      "7    False\n",
      "8    False\n",
      "9     True\n",
      "Name: city, dtype: bool\n"
     ]
    },
    {
     "data": {
      "text/plain": [
       "<bound method DataFrame.tail of           city                                             review\n",
       "0    Las Vegas  Went through the drive through and ordered a #...\n",
       "1      Chicago  Phenomenal experience. Efficient and friendly ...\n",
       "2  Los Angeles  Ghetto lady helped me at the drive thru. Very ...\n",
       "3     New York  Close to my workplace. It was well manged befo...\n",
       "4     Portland  I've made at least 3 visits to this particular...\n",
       "5      Houston  Why did I revisited this McDonald's  again.  I...\n",
       "6      Atlanta  This specific McDonald's is the bar I hold all...\n",
       "7       Dallas  My friend and I stopped in to get a late night...\n",
       "8    Cleveland  Friendly people but completely unable to deliv...\n",
       "9           na  Having visited many McDonald's over the years,...>"
      ]
     },
     "execution_count": 128,
     "metadata": {},
     "output_type": "execute_result"
    }
   ],
   "source": [
    "# create a review_cities column in the new DF\n",
    "# replace null values for city\n",
    "null_rows = new_comments.city.isnull()\n",
    "print null_rows\n",
    "\n",
    "# replace null values with na\n",
    "new_comments.city[null_rows] = 'na'\n",
    "new_comments.tail"
   ]
  },
  {
   "cell_type": "code",
   "execution_count": 129,
   "metadata": {
    "collapsed": false
   },
   "outputs": [
    {
     "data": {
      "text/html": [
       "<div>\n",
       "<table border=\"1\" class=\"dataframe\">\n",
       "  <thead>\n",
       "    <tr style=\"text-align: right;\">\n",
       "      <th></th>\n",
       "      <th>city</th>\n",
       "      <th>review</th>\n",
       "      <th>review_city</th>\n",
       "    </tr>\n",
       "  </thead>\n",
       "  <tbody>\n",
       "    <tr>\n",
       "      <th>0</th>\n",
       "      <td>Las Vegas</td>\n",
       "      <td>Went through the drive through and ordered a #...</td>\n",
       "      <td>Las Vegas Went through the drive through and o...</td>\n",
       "    </tr>\n",
       "    <tr>\n",
       "      <th>1</th>\n",
       "      <td>Chicago</td>\n",
       "      <td>Phenomenal experience. Efficient and friendly ...</td>\n",
       "      <td>Chicago Phenomenal experience. Efficient and f...</td>\n",
       "    </tr>\n",
       "    <tr>\n",
       "      <th>2</th>\n",
       "      <td>Los Angeles</td>\n",
       "      <td>Ghetto lady helped me at the drive thru. Very ...</td>\n",
       "      <td>Los Angeles Ghetto lady helped me at the drive...</td>\n",
       "    </tr>\n",
       "    <tr>\n",
       "      <th>3</th>\n",
       "      <td>New York</td>\n",
       "      <td>Close to my workplace. It was well manged befo...</td>\n",
       "      <td>New York Close to my workplace. It was well ma...</td>\n",
       "    </tr>\n",
       "    <tr>\n",
       "      <th>4</th>\n",
       "      <td>Portland</td>\n",
       "      <td>I've made at least 3 visits to this particular...</td>\n",
       "      <td>Portland I've made at least 3 visits to this p...</td>\n",
       "    </tr>\n",
       "    <tr>\n",
       "      <th>5</th>\n",
       "      <td>Houston</td>\n",
       "      <td>Why did I revisited this McDonald's  again.  I...</td>\n",
       "      <td>Houston Why did I revisited this McDonald's  a...</td>\n",
       "    </tr>\n",
       "    <tr>\n",
       "      <th>6</th>\n",
       "      <td>Atlanta</td>\n",
       "      <td>This specific McDonald's is the bar I hold all...</td>\n",
       "      <td>Atlanta This specific McDonald's is the bar I ...</td>\n",
       "    </tr>\n",
       "    <tr>\n",
       "      <th>7</th>\n",
       "      <td>Dallas</td>\n",
       "      <td>My friend and I stopped in to get a late night...</td>\n",
       "      <td>Dallas My friend and I stopped in to get a lat...</td>\n",
       "    </tr>\n",
       "    <tr>\n",
       "      <th>8</th>\n",
       "      <td>Cleveland</td>\n",
       "      <td>Friendly people but completely unable to deliv...</td>\n",
       "      <td>Cleveland Friendly people but completely unabl...</td>\n",
       "    </tr>\n",
       "    <tr>\n",
       "      <th>9</th>\n",
       "      <td>na</td>\n",
       "      <td>Having visited many McDonald's over the years,...</td>\n",
       "      <td>na Having visited many McDonald's over the yea...</td>\n",
       "    </tr>\n",
       "  </tbody>\n",
       "</table>\n",
       "</div>"
      ],
      "text/plain": [
       "          city                                             review  \\\n",
       "0    Las Vegas  Went through the drive through and ordered a #...   \n",
       "1      Chicago  Phenomenal experience. Efficient and friendly ...   \n",
       "2  Los Angeles  Ghetto lady helped me at the drive thru. Very ...   \n",
       "3     New York  Close to my workplace. It was well manged befo...   \n",
       "4     Portland  I've made at least 3 visits to this particular...   \n",
       "5      Houston  Why did I revisited this McDonald's  again.  I...   \n",
       "6      Atlanta  This specific McDonald's is the bar I hold all...   \n",
       "7       Dallas  My friend and I stopped in to get a late night...   \n",
       "8    Cleveland  Friendly people but completely unable to deliv...   \n",
       "9           na  Having visited many McDonald's over the years,...   \n",
       "\n",
       "                                         review_city  \n",
       "0  Las Vegas Went through the drive through and o...  \n",
       "1  Chicago Phenomenal experience. Efficient and f...  \n",
       "2  Los Angeles Ghetto lady helped me at the drive...  \n",
       "3  New York Close to my workplace. It was well ma...  \n",
       "4  Portland I've made at least 3 visits to this p...  \n",
       "5  Houston Why did I revisited this McDonald's  a...  \n",
       "6  Atlanta This specific McDonald's is the bar I ...  \n",
       "7  Dallas My friend and I stopped in to get a lat...  \n",
       "8  Cleveland Friendly people but completely unabl...  \n",
       "9  na Having visited many McDonald's over the yea...  "
      ]
     },
     "execution_count": 129,
     "metadata": {},
     "output_type": "execute_result"
    }
   ],
   "source": [
    "# combine the review and cities columns\n",
    "new_comments['review_city'] = new_comments.city.str.cat(new_comments.review, sep = ' ')\n",
    "# review to make sure it worked\n",
    "new_comments"
   ]
  },
  {
   "cell_type": "code",
   "execution_count": 130,
   "metadata": {
    "collapsed": false
   },
   "outputs": [
    {
     "data": {
      "text/plain": [
       "<10x610 sparse matrix of type '<type 'numpy.int64'>'\n",
       "\twith 195 stored elements in Compressed Sparse Row format>"
      ]
     },
     "execution_count": 130,
     "metadata": {},
     "output_type": "execute_result"
    }
   ],
   "source": [
    "# build a DTM from the new_comments feature matrix column review_city\n",
    "new_dtm = vect.transform(new_comments.review_city)\n",
    "new_dtm"
   ]
  },
  {
   "cell_type": "code",
   "execution_count": 131,
   "metadata": {
    "collapsed": false
   },
   "outputs": [
    {
     "data": {
      "text/plain": [
       "MultinomialNB(alpha=1.0, class_prior=None, fit_prior=True)"
      ]
     },
     "execution_count": 131,
     "metadata": {},
     "output_type": "execute_result"
    }
   ],
   "source": [
    "# train my NB model with the X_dtm and y values from the original reviews DF\n",
    "y = X.rude\n",
    "nb = MultinomialNB()\n",
    "nb.fit(X_dtm, y)"
   ]
  },
  {
   "cell_type": "code",
   "execution_count": 133,
   "metadata": {
    "collapsed": false
   },
   "outputs": [
    {
     "data": {
      "text/plain": [
       "array([ 0.69239795,  0.01786883,  0.92511411,  0.01721592,  0.27058284])"
      ]
     },
     "execution_count": 133,
     "metadata": {},
     "output_type": "execute_result"
    }
   ],
   "source": [
    "# predicted probabilities for \"rude service\" in the new_comments dataframe\n",
    "new_pred_prob = nb.predict_proba(new_dtm)[:,1]\n",
    "new_pred_prob[0:5]"
   ]
  },
  {
   "cell_type": "code",
   "execution_count": 137,
   "metadata": {
    "collapsed": false
   },
   "outputs": [
    {
     "data": {
      "text/html": [
       "<div>\n",
       "<table border=\"1\" class=\"dataframe\">\n",
       "  <thead>\n",
       "    <tr style=\"text-align: right;\">\n",
       "      <th></th>\n",
       "      <th>city</th>\n",
       "      <th>review</th>\n",
       "      <th>review_city</th>\n",
       "      <th>rude</th>\n",
       "    </tr>\n",
       "  </thead>\n",
       "  <tbody>\n",
       "    <tr>\n",
       "      <th>0</th>\n",
       "      <td>Las Vegas</td>\n",
       "      <td>Went through the drive through and ordered a #...</td>\n",
       "      <td>Las Vegas Went through the drive through and o...</td>\n",
       "      <td>0.692398</td>\n",
       "    </tr>\n",
       "    <tr>\n",
       "      <th>1</th>\n",
       "      <td>Chicago</td>\n",
       "      <td>Phenomenal experience. Efficient and friendly ...</td>\n",
       "      <td>Chicago Phenomenal experience. Efficient and f...</td>\n",
       "      <td>0.017869</td>\n",
       "    </tr>\n",
       "    <tr>\n",
       "      <th>2</th>\n",
       "      <td>Los Angeles</td>\n",
       "      <td>Ghetto lady helped me at the drive thru. Very ...</td>\n",
       "      <td>Los Angeles Ghetto lady helped me at the drive...</td>\n",
       "      <td>0.925114</td>\n",
       "    </tr>\n",
       "    <tr>\n",
       "      <th>3</th>\n",
       "      <td>New York</td>\n",
       "      <td>Close to my workplace. It was well manged befo...</td>\n",
       "      <td>New York Close to my workplace. It was well ma...</td>\n",
       "      <td>0.017216</td>\n",
       "    </tr>\n",
       "    <tr>\n",
       "      <th>4</th>\n",
       "      <td>Portland</td>\n",
       "      <td>I've made at least 3 visits to this particular...</td>\n",
       "      <td>Portland I've made at least 3 visits to this p...</td>\n",
       "      <td>0.270583</td>\n",
       "    </tr>\n",
       "    <tr>\n",
       "      <th>5</th>\n",
       "      <td>Houston</td>\n",
       "      <td>Why did I revisited this McDonald's  again.  I...</td>\n",
       "      <td>Houston Why did I revisited this McDonald's  a...</td>\n",
       "      <td>0.036755</td>\n",
       "    </tr>\n",
       "    <tr>\n",
       "      <th>6</th>\n",
       "      <td>Atlanta</td>\n",
       "      <td>This specific McDonald's is the bar I hold all...</td>\n",
       "      <td>Atlanta This specific McDonald's is the bar I ...</td>\n",
       "      <td>0.276451</td>\n",
       "    </tr>\n",
       "    <tr>\n",
       "      <th>7</th>\n",
       "      <td>Dallas</td>\n",
       "      <td>My friend and I stopped in to get a late night...</td>\n",
       "      <td>Dallas My friend and I stopped in to get a lat...</td>\n",
       "      <td>0.999844</td>\n",
       "    </tr>\n",
       "    <tr>\n",
       "      <th>8</th>\n",
       "      <td>Cleveland</td>\n",
       "      <td>Friendly people but completely unable to deliv...</td>\n",
       "      <td>Cleveland Friendly people but completely unabl...</td>\n",
       "      <td>0.122486</td>\n",
       "    </tr>\n",
       "    <tr>\n",
       "      <th>9</th>\n",
       "      <td>na</td>\n",
       "      <td>Having visited many McDonald's over the years,...</td>\n",
       "      <td>na Having visited many McDonald's over the yea...</td>\n",
       "      <td>0.052421</td>\n",
       "    </tr>\n",
       "  </tbody>\n",
       "</table>\n",
       "</div>"
      ],
      "text/plain": [
       "          city                                             review  \\\n",
       "0    Las Vegas  Went through the drive through and ordered a #...   \n",
       "1      Chicago  Phenomenal experience. Efficient and friendly ...   \n",
       "2  Los Angeles  Ghetto lady helped me at the drive thru. Very ...   \n",
       "3     New York  Close to my workplace. It was well manged befo...   \n",
       "4     Portland  I've made at least 3 visits to this particular...   \n",
       "5      Houston  Why did I revisited this McDonald's  again.  I...   \n",
       "6      Atlanta  This specific McDonald's is the bar I hold all...   \n",
       "7       Dallas  My friend and I stopped in to get a late night...   \n",
       "8    Cleveland  Friendly people but completely unable to deliv...   \n",
       "9           na  Having visited many McDonald's over the years,...   \n",
       "\n",
       "                                         review_city      rude  \n",
       "0  Las Vegas Went through the drive through and o...  0.692398  \n",
       "1  Chicago Phenomenal experience. Efficient and f...  0.017869  \n",
       "2  Los Angeles Ghetto lady helped me at the drive...  0.925114  \n",
       "3  New York Close to my workplace. It was well ma...  0.017216  \n",
       "4  Portland I've made at least 3 visits to this p...  0.270583  \n",
       "5  Houston Why did I revisited this McDonald's  a...  0.036755  \n",
       "6  Atlanta This specific McDonald's is the bar I ...  0.276451  \n",
       "7  Dallas My friend and I stopped in to get a lat...  0.999844  \n",
       "8  Cleveland Friendly people but completely unabl...  0.122486  \n",
       "9  na Having visited many McDonald's over the yea...  0.052421  "
      ]
     },
     "execution_count": 137,
     "metadata": {},
     "output_type": "execute_result"
    }
   ],
   "source": [
    "# print the predicted probability of each entry alongside the comments full text to see how model performed\n",
    "# add a column to the new_comments DF to store the results\n",
    "new_comments['rude'] = new_pred_prob\n",
    "new_comments"
   ]
  },
  {
   "cell_type": "code",
   "execution_count": 178,
   "metadata": {
    "collapsed": false
   },
   "outputs": [],
   "source": [
    "# set the max_col width wide enough to view the entire comments for each row\n",
    "pd.set_option('max_colwidth',1000)"
   ]
  },
  {
   "cell_type": "code",
   "execution_count": null,
   "metadata": {
    "collapsed": true
   },
   "outputs": [],
   "source": [
    "# print the wider DF\n",
    "new_comments"
   ]
  },
  {
   "cell_type": "code",
   "execution_count": 179,
   "metadata": {
    "collapsed": true
   },
   "outputs": [],
   "source": [
    "# add my personal score of 0 or 1 for Rude Service to check performance\n",
    "new_comments.my_rude = [1,0,1,0,1,0,0,1,0,0]"
   ]
  },
  {
   "cell_type": "code",
   "execution_count": 180,
   "metadata": {
    "collapsed": false
   },
   "outputs": [
    {
     "data": {
      "text/html": [
       "<div>\n",
       "<table border=\"1\" class=\"dataframe\">\n",
       "  <thead>\n",
       "    <tr style=\"text-align: right;\">\n",
       "      <th></th>\n",
       "      <th>city</th>\n",
       "      <th>review</th>\n",
       "      <th>review_city</th>\n",
       "      <th>rude</th>\n",
       "      <th>my_rude</th>\n",
       "    </tr>\n",
       "  </thead>\n",
       "  <tbody>\n",
       "    <tr>\n",
       "      <th>0</th>\n",
       "      <td>Las Vegas</td>\n",
       "      <td>Went through the drive through and ordered a #10 (cripsy sweet chili chicken wrap) without fries- the lady couldn't understand that I did not want fries and charged me for them anyways. I got the wrong order- a chicken sandwich and a large fries- my boyfriend took it back inside to get the correct order. The gentleman that ordered the chicken sandwich was standing there as well and she took the bag from my bf- glanced at the insides and handed it to the man without even offering to replace. I mean with all the scares about viruses going around... ugh DISGUSTING SERVICE. Then when she gave him the correct order my wrap not only had the sweet chili sauce on it, but the nasty (just not my first choice) ranch dressing on it!!!! I mean seriously... how lazy can you get!!!! I worked at McDonalds in Texas when I was 17 for about 8 months and I guess I was spoiled with good management. This was absolutely ridiculous. I was beyond disappointed.</td>\n",
       "      <td>Las Vegas Went through the drive through and ordered a #10 (cripsy sweet chili chicken wrap) without fries- the lady couldn't understand that I did not want fries and charged me for them anyways. I got the wrong order- a chicken sandwich and a large fries- my boyfriend took it back inside to get the correct order. The gentleman that ordered the chicken sandwich was standing there as well and she took the bag from my bf- glanced at the insides and handed it to the man without even offering to replace. I mean with all the scares about viruses going around... ugh DISGUSTING SERVICE. Then when she gave him the correct order my wrap not only had the sweet chili sauce on it, but the nasty (just not my first choice) ranch dressing on it!!!! I mean seriously... how lazy can you get!!!! I worked at McDonalds in Texas when I was 17 for about 8 months and I guess I was spoiled with good management. This was absolutely ridiculous. I was beyond disappointed.</td>\n",
       "      <td>0.692398</td>\n",
       "      <td>1</td>\n",
       "    </tr>\n",
       "    <tr>\n",
       "      <th>1</th>\n",
       "      <td>Chicago</td>\n",
       "      <td>Phenomenal experience. Efficient and friendly staff. Clean restrooms, good, fast service and bilingual staff. One of the best restaurants in the chain.</td>\n",
       "      <td>Chicago Phenomenal experience. Efficient and friendly staff. Clean restrooms, good, fast service and bilingual staff. One of the best restaurants in the chain.</td>\n",
       "      <td>0.017869</td>\n",
       "      <td>0</td>\n",
       "    </tr>\n",
       "    <tr>\n",
       "      <th>2</th>\n",
       "      <td>Los Angeles</td>\n",
       "      <td>Ghetto lady helped me at the drive thru. Very rude and disrespectful to the co workers. Never coming back. Yuck!</td>\n",
       "      <td>Los Angeles Ghetto lady helped me at the drive thru. Very rude and disrespectful to the co workers. Never coming back. Yuck!</td>\n",
       "      <td>0.925114</td>\n",
       "      <td>1</td>\n",
       "    </tr>\n",
       "    <tr>\n",
       "      <th>3</th>\n",
       "      <td>New York</td>\n",
       "      <td>Close to my workplace. It was well manged before. Now it's OK. The parking can be tight sometimes. Like all McDonald's, prices are getting expensive.</td>\n",
       "      <td>New York Close to my workplace. It was well manged before. Now it's OK. The parking can be tight sometimes. Like all McDonald's, prices are getting expensive.</td>\n",
       "      <td>0.017216</td>\n",
       "      <td>0</td>\n",
       "    </tr>\n",
       "    <tr>\n",
       "      <th>4</th>\n",
       "      <td>Portland</td>\n",
       "      <td>I've made at least 3 visits to this particular location just because it's right next to my office building.. and all my experience have been consistently bad.  There are a few helpers taking your orders throughout the drive-thru route and they are the worst. They rush you in placing an order and gets impatient once the order gets a tad bit complicated.  Don't even bother changing your mind oh NO! They will glare at you and snap at you if you want to change something.  I understand its FAST food, but I want my order placed right.  Not going back if I can help it.</td>\n",
       "      <td>Portland I've made at least 3 visits to this particular location just because it's right next to my office building.. and all my experience have been consistently bad.  There are a few helpers taking your orders throughout the drive-thru route and they are the worst. They rush you in placing an order and gets impatient once the order gets a tad bit complicated.  Don't even bother changing your mind oh NO! They will glare at you and snap at you if you want to change something.  I understand its FAST food, but I want my order placed right.  Not going back if I can help it.</td>\n",
       "      <td>0.270583</td>\n",
       "      <td>1</td>\n",
       "    </tr>\n",
       "    <tr>\n",
       "      <th>5</th>\n",
       "      <td>Houston</td>\n",
       "      <td>Why did I revisited this McDonald's  again.  I needed to use the restroom  facilities  and the women's bathroom didn't have soap, the floor was wet,  the bathroom stink, and the toilets were nasty. This McDonald's is very nasty.</td>\n",
       "      <td>Houston Why did I revisited this McDonald's  again.  I needed to use the restroom  facilities  and the women's bathroom didn't have soap, the floor was wet,  the bathroom stink, and the toilets were nasty. This McDonald's is very nasty.</td>\n",
       "      <td>0.036755</td>\n",
       "      <td>0</td>\n",
       "    </tr>\n",
       "    <tr>\n",
       "      <th>6</th>\n",
       "      <td>Atlanta</td>\n",
       "      <td>This specific McDonald's is the bar I hold all other fast food joints to now. Been working in this area for 3 years now and gone to this location many times for drive-through pickup. Service is always fast, food comes out right, and the staff is extremely warm and polite.</td>\n",
       "      <td>Atlanta This specific McDonald's is the bar I hold all other fast food joints to now. Been working in this area for 3 years now and gone to this location many times for drive-through pickup. Service is always fast, food comes out right, and the staff is extremely warm and polite.</td>\n",
       "      <td>0.276451</td>\n",
       "      <td>0</td>\n",
       "    </tr>\n",
       "    <tr>\n",
       "      <th>7</th>\n",
       "      <td>Dallas</td>\n",
       "      <td>My friend and I stopped in to get a late night snack and we were refused service. The store claimed to be 24 hours and the manager was standing right there doing paper work but would not help us. The cashier was only concerned with doing things for the drive thru and said that the manager said he wasn't allowed to help us. We thought it was a joke at first but when realized it wasn't we said goodbye and they just let us leave. I work in a restaurant and this is by far the worst service I have ever seen. I know it was late and maybe they didn't want to be there but it was completely ridiculous. I think the manager should be fired.</td>\n",
       "      <td>Dallas My friend and I stopped in to get a late night snack and we were refused service. The store claimed to be 24 hours and the manager was standing right there doing paper work but would not help us. The cashier was only concerned with doing things for the drive thru and said that the manager said he wasn't allowed to help us. We thought it was a joke at first but when realized it wasn't we said goodbye and they just let us leave. I work in a restaurant and this is by far the worst service I have ever seen. I know it was late and maybe they didn't want to be there but it was completely ridiculous. I think the manager should be fired.</td>\n",
       "      <td>0.999844</td>\n",
       "      <td>1</td>\n",
       "    </tr>\n",
       "    <tr>\n",
       "      <th>8</th>\n",
       "      <td>Cleveland</td>\n",
       "      <td>Friendly people but completely unable to deliver what was ordered at the drive through.  Out of my last 6 orders they got it right 3 times.  Incidentally, the billing was always correct - they just could not read the order and deliver.  Very frustrating!</td>\n",
       "      <td>Cleveland Friendly people but completely unable to deliver what was ordered at the drive through.  Out of my last 6 orders they got it right 3 times.  Incidentally, the billing was always correct - they just could not read the order and deliver.  Very frustrating!</td>\n",
       "      <td>0.122486</td>\n",
       "      <td>0</td>\n",
       "    </tr>\n",
       "    <tr>\n",
       "      <th>9</th>\n",
       "      <td>na</td>\n",
       "      <td>Having visited many McDonald's over the years, I have to say that this one is the most efficient one ever! Even though it is still fast food, the service at the drive-thru is the best. They rarely make a mistake and I never see anyone parked in the drive-thru slots where they bring food out because they don't have it ready. So, if you like McDonald's fast food, it doesn't get any better than this.</td>\n",
       "      <td>na Having visited many McDonald's over the years, I have to say that this one is the most efficient one ever! Even though it is still fast food, the service at the drive-thru is the best. They rarely make a mistake and I never see anyone parked in the drive-thru slots where they bring food out because they don't have it ready. So, if you like McDonald's fast food, it doesn't get any better than this.</td>\n",
       "      <td>0.052421</td>\n",
       "      <td>0</td>\n",
       "    </tr>\n",
       "  </tbody>\n",
       "</table>\n",
       "</div>"
      ],
      "text/plain": [
       "          city  \\\n",
       "0    Las Vegas   \n",
       "1      Chicago   \n",
       "2  Los Angeles   \n",
       "3     New York   \n",
       "4     Portland   \n",
       "5      Houston   \n",
       "6      Atlanta   \n",
       "7       Dallas   \n",
       "8    Cleveland   \n",
       "9           na   \n",
       "\n",
       "                                                                                                                                                                                                                                                                                                                                                                                                                                                                                                                                                                                                                                                                                                                                                                                                                                                                                                                                                                                  review  \\\n",
       "0  Went through the drive through and ordered a #10 (cripsy sweet chili chicken wrap) without fries- the lady couldn't understand that I did not want fries and charged me for them anyways. I got the wrong order- a chicken sandwich and a large fries- my boyfriend took it back inside to get the correct order. The gentleman that ordered the chicken sandwich was standing there as well and she took the bag from my bf- glanced at the insides and handed it to the man without even offering to replace. I mean with all the scares about viruses going around... ugh DISGUSTING SERVICE. Then when she gave him the correct order my wrap not only had the sweet chili sauce on it, but the nasty (just not my first choice) ranch dressing on it!!!! I mean seriously... how lazy can you get!!!! I worked at McDonalds in Texas when I was 17 for about 8 months and I guess I was spoiled with good management. This was absolutely ridiculous. I was beyond disappointed.   \n",
       "1                                                                                                                                                                                                                                                                                                                                                                                                                                                                                                                                                                                                                                                                                                                                                                                                                                Phenomenal experience. Efficient and friendly staff. Clean restrooms, good, fast service and bilingual staff. One of the best restaurants in the chain.   \n",
       "2                                                                                                                                                                                                                                                                                                                                                                                                                                                                                                                                                                                                                                                                                                                                                                                                                                                                       Ghetto lady helped me at the drive thru. Very rude and disrespectful to the co workers. Never coming back. Yuck!   \n",
       "3                                                                                                                                                                                                                                                                                                                                                                                                                                                                                                                                                                                                                                                                                                                                                                                                                                  Close to my workplace. It was well manged before. Now it's OK. The parking can be tight sometimes. Like all McDonald's, prices are getting expensive.   \n",
       "4                                                                                                                                                                                                                                                                                                                                                                                               I've made at least 3 visits to this particular location just because it's right next to my office building.. and all my experience have been consistently bad.  There are a few helpers taking your orders throughout the drive-thru route and they are the worst. They rush you in placing an order and gets impatient once the order gets a tad bit complicated.  Don't even bother changing your mind oh NO! They will glare at you and snap at you if you want to change something.  I understand its FAST food, but I want my order placed right.  Not going back if I can help it.   \n",
       "5                                                                                                                                                                                                                                                                                                                                                                                                                                                                                                                                                                                                                                                                                                                                                   Why did I revisited this McDonald's  again.  I needed to use the restroom  facilities  and the women's bathroom didn't have soap, the floor was wet,  the bathroom stink, and the toilets were nasty. This McDonald's is very nasty.   \n",
       "6                                                                                                                                                                                                                                                                                                                                                                                                                                                                                                                                                                                                                                                                                                       This specific McDonald's is the bar I hold all other fast food joints to now. Been working in this area for 3 years now and gone to this location many times for drive-through pickup. Service is always fast, food comes out right, and the staff is extremely warm and polite.   \n",
       "7                                                                                                                                                                                                                                                                                                                          My friend and I stopped in to get a late night snack and we were refused service. The store claimed to be 24 hours and the manager was standing right there doing paper work but would not help us. The cashier was only concerned with doing things for the drive thru and said that the manager said he wasn't allowed to help us. We thought it was a joke at first but when realized it wasn't we said goodbye and they just let us leave. I work in a restaurant and this is by far the worst service I have ever seen. I know it was late and maybe they didn't want to be there but it was completely ridiculous. I think the manager should be fired.   \n",
       "8                                                                                                                                                                                                                                                                                                                                                                                                                                                                                                                                                                                                                                                                                                                         Friendly people but completely unable to deliver what was ordered at the drive through.  Out of my last 6 orders they got it right 3 times.  Incidentally, the billing was always correct - they just could not read the order and deliver.  Very frustrating!   \n",
       "9                                                                                                                                                                                                                                                                                                                                                                                                                                                                                                                                                                       Having visited many McDonald's over the years, I have to say that this one is the most efficient one ever! Even though it is still fast food, the service at the drive-thru is the best. They rarely make a mistake and I never see anyone parked in the drive-thru slots where they bring food out because they don't have it ready. So, if you like McDonald's fast food, it doesn't get any better than this.   \n",
       "\n",
       "                                                                                                                                                                                                                                                                                                                                                                                                                                                                                                                                                                                                                                                                                                                                                                                                                                                                                                                                                                                       review_city  \\\n",
       "0  Las Vegas Went through the drive through and ordered a #10 (cripsy sweet chili chicken wrap) without fries- the lady couldn't understand that I did not want fries and charged me for them anyways. I got the wrong order- a chicken sandwich and a large fries- my boyfriend took it back inside to get the correct order. The gentleman that ordered the chicken sandwich was standing there as well and she took the bag from my bf- glanced at the insides and handed it to the man without even offering to replace. I mean with all the scares about viruses going around... ugh DISGUSTING SERVICE. Then when she gave him the correct order my wrap not only had the sweet chili sauce on it, but the nasty (just not my first choice) ranch dressing on it!!!! I mean seriously... how lazy can you get!!!! I worked at McDonalds in Texas when I was 17 for about 8 months and I guess I was spoiled with good management. This was absolutely ridiculous. I was beyond disappointed.   \n",
       "1                                                                                                                                                                                                                                                                                                                                                                                                                                                                                                                                                                                                                                                                                                                                                                                                                                  Chicago Phenomenal experience. Efficient and friendly staff. Clean restrooms, good, fast service and bilingual staff. One of the best restaurants in the chain.   \n",
       "2                                                                                                                                                                                                                                                                                                                                                                                                                                                                                                                                                                                                                                                                                                                                                                                                                                                                     Los Angeles Ghetto lady helped me at the drive thru. Very rude and disrespectful to the co workers. Never coming back. Yuck!   \n",
       "3                                                                                                                                                                                                                                                                                                                                                                                                                                                                                                                                                                                                                                                                                                                                                                                                                                   New York Close to my workplace. It was well manged before. Now it's OK. The parking can be tight sometimes. Like all McDonald's, prices are getting expensive.   \n",
       "4                                                                                                                                                                                                                                                                                                                                                                                                Portland I've made at least 3 visits to this particular location just because it's right next to my office building.. and all my experience have been consistently bad.  There are a few helpers taking your orders throughout the drive-thru route and they are the worst. They rush you in placing an order and gets impatient once the order gets a tad bit complicated.  Don't even bother changing your mind oh NO! They will glare at you and snap at you if you want to change something.  I understand its FAST food, but I want my order placed right.  Not going back if I can help it.   \n",
       "5                                                                                                                                                                                                                                                                                                                                                                                                                                                                                                                                                                                                                                                                                                                                                     Houston Why did I revisited this McDonald's  again.  I needed to use the restroom  facilities  and the women's bathroom didn't have soap, the floor was wet,  the bathroom stink, and the toilets were nasty. This McDonald's is very nasty.   \n",
       "6                                                                                                                                                                                                                                                                                                                                                                                                                                                                                                                                                                                                                                                                                                         Atlanta This specific McDonald's is the bar I hold all other fast food joints to now. Been working in this area for 3 years now and gone to this location many times for drive-through pickup. Service is always fast, food comes out right, and the staff is extremely warm and polite.   \n",
       "7                                                                                                                                                                                                                                                                                                                             Dallas My friend and I stopped in to get a late night snack and we were refused service. The store claimed to be 24 hours and the manager was standing right there doing paper work but would not help us. The cashier was only concerned with doing things for the drive thru and said that the manager said he wasn't allowed to help us. We thought it was a joke at first but when realized it wasn't we said goodbye and they just let us leave. I work in a restaurant and this is by far the worst service I have ever seen. I know it was late and maybe they didn't want to be there but it was completely ridiculous. I think the manager should be fired.   \n",
       "8                                                                                                                                                                                                                                                                                                                                                                                                                                                                                                                                                                                                                                                                                                                         Cleveland Friendly people but completely unable to deliver what was ordered at the drive through.  Out of my last 6 orders they got it right 3 times.  Incidentally, the billing was always correct - they just could not read the order and deliver.  Very frustrating!   \n",
       "9                                                                                                                                                                                                                                                                                                                                                                                                                                                                                                                                                                              na Having visited many McDonald's over the years, I have to say that this one is the most efficient one ever! Even though it is still fast food, the service at the drive-thru is the best. They rarely make a mistake and I never see anyone parked in the drive-thru slots where they bring food out because they don't have it ready. So, if you like McDonald's fast food, it doesn't get any better than this.   \n",
       "\n",
       "       rude  my_rude  \n",
       "0  0.692398        1  \n",
       "1  0.017869        0  \n",
       "2  0.925114        1  \n",
       "3  0.017216        0  \n",
       "4  0.270583        1  \n",
       "5  0.036755        0  \n",
       "6  0.276451        0  \n",
       "7  0.999844        1  \n",
       "8  0.122486        0  \n",
       "9  0.052421        0  "
      ]
     },
     "execution_count": 180,
     "metadata": {},
     "output_type": "execute_result"
    }
   ],
   "source": [
    "# compare predicated probabilites for rude service with the actual \n",
    "new_comments"
   ]
  },
  {
   "cell_type": "markdown",
   "metadata": {},
   "source": [
    "### Personal Assessment of model performance\n",
    "Overall I am believe the model performed quite well.  After personally inspecting each of the 10 OOS comments, I detemined the model correctly labeled 9 out of 10, providing a roughly 90% TPR and only scoring 4 of the 10 as Rude Service.  The one incorrectly labeled comment does refer to RudeService but it appears to be a review that is also referring to \"OrderProblems\" which appears to have confused the model in this case.\n",
    "\n",
    "It is a fairly small OOS sample but I believe the overall perforance does bode well for wider application of the model.  I was particularlly impressed that the model was able to detect the subtetly between different types of negative reviews as well.  For example, row 5 is clearly a negative review, however, it is referring to a separate category of \"Filthy\" and has nothing to do with \"RudeService\".  The model quite rightly showed this too, scoring this particular comment as a only 3.6% likelihood of referring to RudeService despite being quite a negative review overall.  Similarly, for row 8, the comments are mixed with \"positive\" friendly service comments but with \"negative\" comments about \"OrderProblem\" issues.  Again, the model was able to discern between these two and only scored this entry as having a 12% likelihood of referring to \"RudeService.\""
   ]
  }
 ],
 "metadata": {
  "kernelspec": {
   "display_name": "Python 2",
   "language": "python",
   "name": "python2"
  },
  "language_info": {
   "codemirror_mode": {
    "name": "ipython",
    "version": 2
   },
   "file_extension": ".py",
   "mimetype": "text/x-python",
   "name": "python",
   "nbconvert_exporter": "python",
   "pygments_lexer": "ipython2",
   "version": "2.7.11"
  }
 },
 "nbformat": 4,
 "nbformat_minor": 0
}
