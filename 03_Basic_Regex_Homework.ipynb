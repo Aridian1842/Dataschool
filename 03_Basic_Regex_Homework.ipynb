{
 "cells": [
  {
   "cell_type": "markdown",
   "metadata": {},
   "source": [
    "# Basic Regex Homework"
   ]
  },
  {
   "cell_type": "code",
   "execution_count": null,
   "metadata": {
    "collapsed": true
   },
   "outputs": [],
   "source": [
    "# use print only as a function\n",
    "# ignore this step as we are working in Python 2.7\n",
    "#from __future__ import print_function"
   ]
  },
  {
   "cell_type": "markdown",
   "metadata": {},
   "source": [
    "## Homework 1: FAA tower closures\n",
    "\n",
    "A list of FAA tower closures has been copied from a [PDF](http://www.faa.gov/news/media/fct_closed.pdf) into the file **`faa.txt`**, which is stored in the **`data`** directory of the course repository."
   ]
  },
  {
   "cell_type": "code",
   "execution_count": 1,
   "metadata": {
    "collapsed": true
   },
   "outputs": [],
   "source": [
    "# read the file into a single string\n",
    "with open('../data/faa.txt') as f:\n",
    "    data = f.read()"
   ]
  },
  {
   "cell_type": "code",
   "execution_count": 35,
   "metadata": {
    "collapsed": false
   },
   "outputs": [],
   "source": [
    "# check number of lines\n",
    "g = open('../data/faa.txt').readlines()"
   ]
  },
  {
   "cell_type": "code",
   "execution_count": 37,
   "metadata": {
    "collapsed": false
   },
   "outputs": [
    {
     "name": "stdout",
     "output_type": "stream",
     "text": [
      "173\n",
      "['FAA Contract Tower Closure List\\n', '(149 FCTs)\\n', '3-22-2013\\n', 'LOC\\n', 'ID Facility Name City State\\n', 'DHN DOTHAN RGNL DOTHAN AL\\n', 'TCL TUSCALOOSA RGNL TUSCALOOSA AL\\n', 'FYV DRAKE FIELD FAYETTEVILLE AR\\n', 'TXK TEXARKANA RGNL-WEBB FIELD TEXARKANA AR\\n', 'GEU GLENDALE MUNI GLENDALE AZ\\n', 'GYR PHOENIX GOODYEAR GOODYEAR AZ\\n', 'IFP LAUGHLIN/BULLHEAD INTL BULLHEAD CITY AZ\\n', 'RYN RYAN FIELD TUCSON AZ\\n', 'FUL FULLERTON MUNI FULLERTON CA\\n', 'MER CASTLE ATWATER CA\\n', 'OXR OXNARD OXNARD CA\\n', 'RAL RIVERSIDE MUNI RIVERSIDE CA\\n', 'RNM RAMONA RAMONA CA\\n', 'SAC SACRAMENTO EXECUTIVE SACRAMENTO CA\\n', 'SDM BROWN FIELD MUNI SAN DIEGO CA\\n']\n"
     ]
    }
   ],
   "source": [
    "print len(g)\n",
    "print g[0:20]"
   ]
  },
  {
   "cell_type": "code",
   "execution_count": 2,
   "metadata": {
    "collapsed": false
   },
   "outputs": [
    {
     "data": {
      "text/plain": [
       "5573"
      ]
     },
     "execution_count": 2,
     "metadata": {},
     "output_type": "execute_result"
    }
   ],
   "source": [
    "# check the number of characters\n",
    "len(data)"
   ]
  },
  {
   "cell_type": "code",
   "execution_count": 3,
   "metadata": {
    "collapsed": false
   },
   "outputs": [
    {
     "name": "stdout",
     "output_type": "stream",
     "text": [
      "FAA Contract Tower Closure List\n",
      "(149 FCTs)\n",
      "3-22-2013\n",
      "LOC\n",
      "ID Facility Name City State\n",
      "DHN DOTHAN RGNL DOTHAN AL\n",
      "TCL TUSCALOOSA RGNL TUSCALOOSA AL\n",
      "FYV DRAKE FIELD FAYETTEVILLE AR\n",
      "TXK TEXARKANA RGNL-WEBB FIELD TEXARKANA AR\n",
      "GEU GLENDALE MUNI GLENDALE AZ\n",
      "GYR PHOENIX GOODYEAR GOODYEAR AZ\n",
      "IFP LAUGHLIN/BULLHEAD INTL BULLHEAD CITY AZ\n",
      "RYN RYAN FIELD TUCSON AZ\n",
      "FUL FULLERTON MUNI FULLERTON CA\n",
      "MER CASTLE ATWATER CA\n",
      "OXR OXNARD OXNARD CA\n",
      "RAL RIVERSIDE MUNI RIVERSIDE CA\n",
      "RNM RAMONA RAMONA CA\n",
      "SAC SACRAMENTO EXECU\n"
     ]
    }
   ],
   "source": [
    "# examine the first 500 characters\n",
    "print(data[0:500])"
   ]
  },
  {
   "cell_type": "code",
   "execution_count": 8,
   "metadata": {
    "collapsed": false
   },
   "outputs": [
    {
     "name": "stdout",
     "output_type": "stream",
     "text": [
      "TACOMA WA\n",
      "YKM YAKIMA AIR TERMINAL/ MCALLISTER FIELD YAKIMA WA\n",
      "CWA CENTRAL WISCONSIN MOSINEE WI\n",
      "EAU CHIPPEWA VALLEY RGNL EAU CLAIRE WI\n",
      "ENW KENOSHA RGNL KENOSHA WI\n",
      "Page 3 of 4\n",
      "FAA Contract Tower Closure List\n",
      "(149 FCTs)\n",
      "3-22-2013\n",
      "LOC\n",
      "ID Facility Name City State\n",
      "JVL SOUTHERN WISCONSIN RGNL JANESVILLE WI\n",
      "LSE LA CROSSE MUNI LA CROSSE WI\n",
      "MWC LAWRENCE J TIMMERMAN MILWAUKEE WI\n",
      "OSH WITTMAN RGNL OSHKOSH WI\n",
      "UES WAUKESHA COUNTY WAUKESHA WI\n",
      "HLG WHEELING OHIO CO WHEELING WV\n",
      "LWB GREENBRIER VALLEY LEWISBURG WV\n",
      "PKB MID-OHIO VALLEY RGNL PARKERSBURG WV\n",
      "Page 4 of 4\n"
     ]
    }
   ],
   "source": [
    "# examine the last 500 characters\n",
    "print(data[-550:])"
   ]
  },
  {
   "cell_type": "markdown",
   "metadata": {},
   "source": [
    "Your assignment is to **create a list of tuples** containing the **tower IDs** and the **states** they are located in.\n",
    "\n",
    "Here is the **expected output:**\n",
    "\n",
    "> `faa = [('DHN', 'AL'), ('TCL', 'AL'), ..., ('PKB', 'WV')]`"
   ]
  },
  {
   "cell_type": "code",
   "execution_count": 25,
   "metadata": {
    "collapsed": true
   },
   "outputs": [],
   "source": [
    "# import the regex module\n",
    "import re"
   ]
  },
  {
   "cell_type": "code",
   "execution_count": 55,
   "metadata": {
    "collapsed": false
   },
   "outputs": [],
   "source": [
    "# answer to part 1\n",
    "faa = re.findall(r'([A-Z]{3}) .+ ([A-Z]{2})\\n', data[1:])"
   ]
  },
  {
   "cell_type": "code",
   "execution_count": 66,
   "metadata": {
    "collapsed": false
   },
   "outputs": [],
   "source": [
    "# check the len\n",
    "faa_length = len(faa)"
   ]
  },
  {
   "cell_type": "code",
   "execution_count": 67,
   "metadata": {
    "collapsed": false
   },
   "outputs": [
    {
     "name": "stdout",
     "output_type": "stream",
     "text": [
      "[('DHN', 'AL'), ('TCL', 'AL'), ('FYV', 'AR'), ('TXK', 'AR'), ('GEU', 'AZ'), ('GYR', 'AZ'), ('IFP', 'AZ'), ('RYN', 'AZ'), ('FUL', 'CA'), ('MER', 'CA'), ('OXR', 'CA'), ('RAL', 'CA'), ('RNM', 'CA'), ('SAC', 'CA'), ('SDM', 'CA'), ('SNS', 'CA'), ('VCV', 'CA'), ('WHP', 'CA'), ('WJF', 'CA'), ('BDR', 'CT')]\n"
     ]
    }
   ],
   "source": [
    "#inspect first 20 tuples\n",
    "print faa[0:20]"
   ]
  },
  {
   "cell_type": "code",
   "execution_count": 68,
   "metadata": {
    "collapsed": false
   },
   "outputs": [
    {
     "name": "stdout",
     "output_type": "stream",
     "text": [
      "[('VCT', 'TX'), ('OGD', 'UT'), ('PVU', 'UT'), ('LYH', 'VA'), ('OLM', 'WA'), ('RNT', 'WA'), ('SFF', 'WA'), ('TIW', 'WA'), ('YKM', 'WA'), ('CWA', 'WI'), ('EAU', 'WI'), ('ENW', 'WI'), ('JVL', 'WI'), ('LSE', 'WI'), ('MWC', 'WI'), ('OSH', 'WI'), ('UES', 'WI'), ('HLG', 'WV'), ('LWB', 'WV'), ('PKB', 'WV')]\n"
     ]
    }
   ],
   "source": [
    "# inspect last 20 tuples\n",
    "print faa[-20:]"
   ]
  },
  {
   "cell_type": "markdown",
   "metadata": {},
   "source": [
    "As a **bonus task**, use regular expressions to extract the **number of closures** listed in the second line of the file (149), and then use an **assertion** to check that the number of closures is equal to the length of the `faa` list."
   ]
  },
  {
   "cell_type": "code",
   "execution_count": 74,
   "metadata": {
    "collapsed": false
   },
   "outputs": [
    {
     "data": {
      "text/plain": [
       "True"
      ]
     },
     "execution_count": 74,
     "metadata": {},
     "output_type": "execute_result"
    }
   ],
   "source": [
    "# extract the number of closures only\n",
    "num_closures = re.search(r'[0-9]{3}', data)\n",
    "num_closures = int(num_closures.group())\n",
    "num_closures == faa_length"
   ]
  },
  {
   "cell_type": "code",
   "execution_count": 79,
   "metadata": {
    "collapsed": false
   },
   "outputs": [],
   "source": [
    "# create a function to use an assertion to check that the number of closures equals the lengh of faa list\n",
    "def num_check(number):\n",
    "    assert (number == len(faa)), \"the length of the faa doc and the number of closures don't match!\"\n",
    "    return (number)"
   ]
  },
  {
   "cell_type": "code",
   "execution_count": 81,
   "metadata": {
    "collapsed": false
   },
   "outputs": [
    {
     "data": {
      "text/plain": [
       "149"
      ]
     },
     "execution_count": 81,
     "metadata": {},
     "output_type": "execute_result"
    }
   ],
   "source": [
    "# check the assertion\n",
    "num_check(num_closures)"
   ]
  },
  {
   "cell_type": "markdown",
   "metadata": {},
   "source": [
    "## Homework 2: Stack Overflow reputation\n",
    "\n",
    "I have downloaded my **Stack Overflow reputation history** into the file **`reputation.txt`**, which is stored in the **`data`** directory of the course repository. (If you are a Stack Overflow user with a reputation of 10 or more, you should be able to [download your own reputation history](http://stackoverflow.com/reputation).)\n",
    "\n",
    "We are only interested in the lines that **begin with two dashes**, such as:\n",
    "\n",
    "> `-- 2012-08-30 rep +5    = 6`\n",
    "\n",
    "That line can be interpreted as follows: \"On 2012-08-30, my reputation increased by 5, bringing my reputation total to 6.\""
   ]
  },
  {
   "cell_type": "markdown",
   "metadata": {},
   "source": [
    "Your assignment is to **create a list of tuples** containing only these dated entries, including the **date**, **reputation change** (regardless of whether it is positive/negative/zero), and **running total**.\n",
    "\n",
    "Here is the **expected output:**\n",
    "\n",
    "> `rep = [('2012-08-30', '+5', '6'), ('2012-12-11', '+10', '16'), ...,  ('2015-10-14', '-1', '317')]`"
   ]
  },
  {
   "cell_type": "code",
   "execution_count": 1,
   "metadata": {
    "collapsed": false
   },
   "outputs": [],
   "source": [
    "# load the data into the ipynb\n",
    "with open(\"../data/reputation.txt\") as f:\n",
    "    data = f.read()"
   ]
  },
  {
   "cell_type": "code",
   "execution_count": 2,
   "metadata": {
    "collapsed": false
   },
   "outputs": [
    {
     "name": "stdout",
     "output_type": "stream",
     "text": [
      "total votes: 36\n",
      " 2  12201376 (5)\n",
      "-- 2012-08-30 rep +5    = 6         \n",
      " 2  13822612 (10)\n",
      "-- 2012-12-11 rep +10   = 16        \n",
      " 2  13822612 (10)\n",
      "-- 2013-03-20 rep +10   = 26        \n",
      "-- 2013-12-05 rep 0     = 26        \n",
      "-- 2014-01-25 rep 0     = 26        \n",
      " 16  7141669 (2)\n",
      "-- 2014-03-19 rep +2    = 28        \n",
      " 1  12202249 (2)\n",
      "-- 2014-05-11 rep +2    = 30        \n",
      " 16 23599806 (2)\n",
      " 2  23597220 (10)\n",
      "-- 2014-05-12 rep +12   = 42        \n",
      " 2  13822612 (10)\n",
      "-- 2014-06-12 rep +10   = 52        \n",
      " 2  2359722\n"
     ]
    }
   ],
   "source": [
    "# examine the first 500 characters\n",
    "print data[0:500]"
   ]
  },
  {
   "cell_type": "code",
   "execution_count": 3,
   "metadata": {
    "collapsed": false
   },
   "outputs": [
    {
     "name": "stdout",
     "output_type": "stream",
     "text": [
      "5-09-07 rep +10   = 318       \n",
      " 3   1839257 (-1)\n",
      "-- 2015-10-14 rep -1    = 317       \n",
      "\n",
      "** rep today: 0\n",
      "** rep this week (2015-11-08 - 2015-11-14): 0\n",
      "** rep this month (2015-11-01 - 2015-11-30): 0\n",
      "** rep this quarter (2015-10-01 - 2015-12-31): -1\n",
      "** rep this year (2015-01-01 - 2015-12-31): 109\n",
      "** rep from bonuses: 100\n",
      "** total rep 317 :)\n",
      "\n",
      "days represented 34\n",
      "rep cap was reached via rep from upvotes *only* on 0 days\n",
      "earned at least 200 reputation on 0 days\n",
      "earned 10 reputation from suggested edits\n"
     ]
    }
   ],
   "source": [
    "# examine the last 500 characters\n",
    "print data[-500:]"
   ]
  },
  {
   "cell_type": "code",
   "execution_count": 24,
   "metadata": {
    "collapsed": true
   },
   "outputs": [],
   "source": [
    "# import the regex module\n",
    "# imprt the pandas module\n",
    "import re\n",
    "import pandas as pd"
   ]
  },
  {
   "cell_type": "code",
   "execution_count": 5,
   "metadata": {
    "collapsed": false
   },
   "outputs": [
    {
     "data": {
      "text/plain": [
       "[('2012-08-30', '+5', '6'),\n",
       " ('2012-12-11', '+1', '16'),\n",
       " ('2013-03-20', '+1', '26'),\n",
       " ('2014-03-19', '+2', '28'),\n",
       " ('2014-05-11', '+2', '30'),\n",
       " ('2014-05-12', '+1', '42'),\n",
       " ('2014-06-12', '+1', '52'),\n",
       " ('2014-06-26', '+1', '62'),\n",
       " ('2014-09-03', '+1', '72'),\n",
       " ('2014-11-14', '+1', '82'),\n",
       " ('2014-11-18', '+2', '84'),\n",
       " ('2014-12-08', '+2', '86'),\n",
       " ('2014-12-09', '+1', '96'),\n",
       " ('2014-12-12', '+2', '98'),\n",
       " ('2014-12-24', '+1', '108'),\n",
       " ('2015-02-20', '+1', '118'),\n",
       " ('2015-03-28', '+1', '128'),\n",
       " ('2015-04-26', '+1', '138'),\n",
       " ('2015-05-05', '+1', '148'),\n",
       " ('2015-05-26', '+1', '158'),\n",
       " ('2015-05-27', '+2', '178'),\n",
       " ('2015-07-03', '+1', '188'),\n",
       " ('2015-07-22', '+1', '298'),\n",
       " ('2015-08-21', '+1', '308'),\n",
       " ('2015-09-07', '+1', '318'),\n",
       " ('2015-10-14', '-1', '317')]"
      ]
     },
     "execution_count": 5,
     "metadata": {},
     "output_type": "execute_result"
    }
   ],
   "source": [
    "# Homework Basic Regex 2\n",
    "rep = re.findall(r'[-]{2} ([\\d]{4}-[\\d]{2}-[\\d]{2}) [a-z]{3} (.[\\d]).+ = ([\\d]+)', data)\n",
    "rep"
   ]
  },
  {
   "cell_type": "markdown",
   "metadata": {},
   "source": [
    "As a **bonus task**, convert this list of tuples into a **pandas DataFrame**. It should have appropriate column names, and the second and third columns should be of type integer (rather than string/object)."
   ]
  },
  {
   "cell_type": "code",
   "execution_count": 13,
   "metadata": {
    "collapsed": false
   },
   "outputs": [],
   "source": [
    "# import the pandas module\n",
    "dates = []\n",
    "increment = []\n",
    "score = []\n",
    "for each in rep:\n",
    "    dates.append(each[0])\n",
    "    increment.append(int(each[1]))\n",
    "    score.append(int(each[2]))"
   ]
  },
  {
   "cell_type": "code",
   "execution_count": 20,
   "metadata": {
    "collapsed": false
   },
   "outputs": [
    {
     "name": "stdout",
     "output_type": "stream",
     "text": [
      "['2012-08-30', '2012-12-11', '2013-03-20', '2014-03-19', '2014-05-11']\n",
      "[1, 1, 1, 1, -1]\n",
      "[188, 298, 308, 318, 317]\n",
      "<type 'int'>\n"
     ]
    },
    {
     "data": {
      "text/plain": [
       "int"
      ]
     },
     "execution_count": 20,
     "metadata": {},
     "output_type": "execute_result"
    }
   ],
   "source": [
    "# check to make sure the conversion worked from string to int\n",
    "# inspect the first few elements of each newly created list\n",
    "print dates[0:5]\n",
    "print increment[-5:]\n",
    "print score[-5:]\n",
    "print type(increment[-1]) ; type(score[0])"
   ]
  },
  {
   "cell_type": "code",
   "execution_count": 27,
   "metadata": {
    "collapsed": false
   },
   "outputs": [],
   "source": [
    "# create the dictionary to convert to pd DF\n",
    "d = {'a' : dates, 'b': increment, 'c': score}"
   ]
  },
  {
   "cell_type": "code",
   "execution_count": 32,
   "metadata": {
    "collapsed": false
   },
   "outputs": [],
   "source": [
    "# create the pd DataFrame\n",
    "bonus = pd.DataFrame(d)\n",
    "bonus.columns = ['Date', 'Increment', 'Total_Score']"
   ]
  },
  {
   "cell_type": "code",
   "execution_count": 33,
   "metadata": {
    "collapsed": false
   },
   "outputs": [
    {
     "data": {
      "text/html": [
       "<div style=\"max-height:1000px;max-width:1500px;overflow:auto;\">\n",
       "<table border=\"1\" class=\"dataframe\">\n",
       "  <thead>\n",
       "    <tr style=\"text-align: right;\">\n",
       "      <th></th>\n",
       "      <th>Date</th>\n",
       "      <th>Increment</th>\n",
       "      <th>Total_Score</th>\n",
       "    </tr>\n",
       "  </thead>\n",
       "  <tbody>\n",
       "    <tr>\n",
       "      <th>0 </th>\n",
       "      <td> 2012-08-30</td>\n",
       "      <td> 5</td>\n",
       "      <td>   6</td>\n",
       "    </tr>\n",
       "    <tr>\n",
       "      <th>1 </th>\n",
       "      <td> 2012-12-11</td>\n",
       "      <td> 1</td>\n",
       "      <td>  16</td>\n",
       "    </tr>\n",
       "    <tr>\n",
       "      <th>2 </th>\n",
       "      <td> 2013-03-20</td>\n",
       "      <td> 1</td>\n",
       "      <td>  26</td>\n",
       "    </tr>\n",
       "    <tr>\n",
       "      <th>3 </th>\n",
       "      <td> 2014-03-19</td>\n",
       "      <td> 2</td>\n",
       "      <td>  28</td>\n",
       "    </tr>\n",
       "    <tr>\n",
       "      <th>4 </th>\n",
       "      <td> 2014-05-11</td>\n",
       "      <td> 2</td>\n",
       "      <td>  30</td>\n",
       "    </tr>\n",
       "    <tr>\n",
       "      <th>5 </th>\n",
       "      <td> 2014-05-12</td>\n",
       "      <td> 1</td>\n",
       "      <td>  42</td>\n",
       "    </tr>\n",
       "    <tr>\n",
       "      <th>6 </th>\n",
       "      <td> 2014-06-12</td>\n",
       "      <td> 1</td>\n",
       "      <td>  52</td>\n",
       "    </tr>\n",
       "    <tr>\n",
       "      <th>7 </th>\n",
       "      <td> 2014-06-26</td>\n",
       "      <td> 1</td>\n",
       "      <td>  62</td>\n",
       "    </tr>\n",
       "    <tr>\n",
       "      <th>8 </th>\n",
       "      <td> 2014-09-03</td>\n",
       "      <td> 1</td>\n",
       "      <td>  72</td>\n",
       "    </tr>\n",
       "    <tr>\n",
       "      <th>9 </th>\n",
       "      <td> 2014-11-14</td>\n",
       "      <td> 1</td>\n",
       "      <td>  82</td>\n",
       "    </tr>\n",
       "    <tr>\n",
       "      <th>10</th>\n",
       "      <td> 2014-11-18</td>\n",
       "      <td> 2</td>\n",
       "      <td>  84</td>\n",
       "    </tr>\n",
       "    <tr>\n",
       "      <th>11</th>\n",
       "      <td> 2014-12-08</td>\n",
       "      <td> 2</td>\n",
       "      <td>  86</td>\n",
       "    </tr>\n",
       "    <tr>\n",
       "      <th>12</th>\n",
       "      <td> 2014-12-09</td>\n",
       "      <td> 1</td>\n",
       "      <td>  96</td>\n",
       "    </tr>\n",
       "    <tr>\n",
       "      <th>13</th>\n",
       "      <td> 2014-12-12</td>\n",
       "      <td> 2</td>\n",
       "      <td>  98</td>\n",
       "    </tr>\n",
       "    <tr>\n",
       "      <th>14</th>\n",
       "      <td> 2014-12-24</td>\n",
       "      <td> 1</td>\n",
       "      <td> 108</td>\n",
       "    </tr>\n",
       "    <tr>\n",
       "      <th>15</th>\n",
       "      <td> 2015-02-20</td>\n",
       "      <td> 1</td>\n",
       "      <td> 118</td>\n",
       "    </tr>\n",
       "    <tr>\n",
       "      <th>16</th>\n",
       "      <td> 2015-03-28</td>\n",
       "      <td> 1</td>\n",
       "      <td> 128</td>\n",
       "    </tr>\n",
       "    <tr>\n",
       "      <th>17</th>\n",
       "      <td> 2015-04-26</td>\n",
       "      <td> 1</td>\n",
       "      <td> 138</td>\n",
       "    </tr>\n",
       "    <tr>\n",
       "      <th>18</th>\n",
       "      <td> 2015-05-05</td>\n",
       "      <td> 1</td>\n",
       "      <td> 148</td>\n",
       "    </tr>\n",
       "    <tr>\n",
       "      <th>19</th>\n",
       "      <td> 2015-05-26</td>\n",
       "      <td> 1</td>\n",
       "      <td> 158</td>\n",
       "    </tr>\n",
       "    <tr>\n",
       "      <th>20</th>\n",
       "      <td> 2015-05-27</td>\n",
       "      <td> 2</td>\n",
       "      <td> 178</td>\n",
       "    </tr>\n",
       "    <tr>\n",
       "      <th>21</th>\n",
       "      <td> 2015-07-03</td>\n",
       "      <td> 1</td>\n",
       "      <td> 188</td>\n",
       "    </tr>\n",
       "    <tr>\n",
       "      <th>22</th>\n",
       "      <td> 2015-07-22</td>\n",
       "      <td> 1</td>\n",
       "      <td> 298</td>\n",
       "    </tr>\n",
       "    <tr>\n",
       "      <th>23</th>\n",
       "      <td> 2015-08-21</td>\n",
       "      <td> 1</td>\n",
       "      <td> 308</td>\n",
       "    </tr>\n",
       "    <tr>\n",
       "      <th>24</th>\n",
       "      <td> 2015-09-07</td>\n",
       "      <td> 1</td>\n",
       "      <td> 318</td>\n",
       "    </tr>\n",
       "    <tr>\n",
       "      <th>25</th>\n",
       "      <td> 2015-10-14</td>\n",
       "      <td>-1</td>\n",
       "      <td> 317</td>\n",
       "    </tr>\n",
       "  </tbody>\n",
       "</table>\n",
       "</div>"
      ],
      "text/plain": [
       "          Date  Increment  Total_Score\n",
       "0   2012-08-30          5            6\n",
       "1   2012-12-11          1           16\n",
       "2   2013-03-20          1           26\n",
       "3   2014-03-19          2           28\n",
       "4   2014-05-11          2           30\n",
       "5   2014-05-12          1           42\n",
       "6   2014-06-12          1           52\n",
       "7   2014-06-26          1           62\n",
       "8   2014-09-03          1           72\n",
       "9   2014-11-14          1           82\n",
       "10  2014-11-18          2           84\n",
       "11  2014-12-08          2           86\n",
       "12  2014-12-09          1           96\n",
       "13  2014-12-12          2           98\n",
       "14  2014-12-24          1          108\n",
       "15  2015-02-20          1          118\n",
       "16  2015-03-28          1          128\n",
       "17  2015-04-26          1          138\n",
       "18  2015-05-05          1          148\n",
       "19  2015-05-26          1          158\n",
       "20  2015-05-27          2          178\n",
       "21  2015-07-03          1          188\n",
       "22  2015-07-22          1          298\n",
       "23  2015-08-21          1          308\n",
       "24  2015-09-07          1          318\n",
       "25  2015-10-14         -1          317"
      ]
     },
     "execution_count": 33,
     "metadata": {},
     "output_type": "execute_result"
    }
   ],
   "source": [
    "# inspect visually to make sure worked as intended.\n",
    "bonus"
   ]
  },
  {
   "cell_type": "code",
   "execution_count": 37,
   "metadata": {
    "collapsed": false
   },
   "outputs": [],
   "source": [
    "# Alternative option to create column names initially\n",
    "test_d = {'Date':dates, 'Point_Change': increment, 'Total_Score': score}"
   ]
  },
  {
   "cell_type": "code",
   "execution_count": 38,
   "metadata": {
    "collapsed": true
   },
   "outputs": [],
   "source": [
    "# create new test df with col names already created\n",
    "test = pd.DataFrame(test_d)"
   ]
  },
  {
   "cell_type": "code",
   "execution_count": 47,
   "metadata": {
    "collapsed": false
   },
   "outputs": [
    {
     "data": {
      "text/html": [
       "<div style=\"max-height:1000px;max-width:1500px;overflow:auto;\">\n",
       "<table border=\"1\" class=\"dataframe\">\n",
       "  <thead>\n",
       "    <tr style=\"text-align: right;\">\n",
       "      <th></th>\n",
       "      <th>Date</th>\n",
       "      <th>Point_Change</th>\n",
       "      <th>Total_Score</th>\n",
       "    </tr>\n",
       "  </thead>\n",
       "  <tbody>\n",
       "    <tr>\n",
       "      <th>0 </th>\n",
       "      <td> 2012-08-30</td>\n",
       "      <td> 5</td>\n",
       "      <td>   6</td>\n",
       "    </tr>\n",
       "    <tr>\n",
       "      <th>1 </th>\n",
       "      <td> 2012-12-11</td>\n",
       "      <td> 1</td>\n",
       "      <td>  16</td>\n",
       "    </tr>\n",
       "    <tr>\n",
       "      <th>2 </th>\n",
       "      <td> 2013-03-20</td>\n",
       "      <td> 1</td>\n",
       "      <td>  26</td>\n",
       "    </tr>\n",
       "    <tr>\n",
       "      <th>3 </th>\n",
       "      <td> 2014-03-19</td>\n",
       "      <td> 2</td>\n",
       "      <td>  28</td>\n",
       "    </tr>\n",
       "    <tr>\n",
       "      <th>4 </th>\n",
       "      <td> 2014-05-11</td>\n",
       "      <td> 2</td>\n",
       "      <td>  30</td>\n",
       "    </tr>\n",
       "    <tr>\n",
       "      <th>5 </th>\n",
       "      <td> 2014-05-12</td>\n",
       "      <td> 1</td>\n",
       "      <td>  42</td>\n",
       "    </tr>\n",
       "    <tr>\n",
       "      <th>6 </th>\n",
       "      <td> 2014-06-12</td>\n",
       "      <td> 1</td>\n",
       "      <td>  52</td>\n",
       "    </tr>\n",
       "    <tr>\n",
       "      <th>7 </th>\n",
       "      <td> 2014-06-26</td>\n",
       "      <td> 1</td>\n",
       "      <td>  62</td>\n",
       "    </tr>\n",
       "    <tr>\n",
       "      <th>8 </th>\n",
       "      <td> 2014-09-03</td>\n",
       "      <td> 1</td>\n",
       "      <td>  72</td>\n",
       "    </tr>\n",
       "    <tr>\n",
       "      <th>9 </th>\n",
       "      <td> 2014-11-14</td>\n",
       "      <td> 1</td>\n",
       "      <td>  82</td>\n",
       "    </tr>\n",
       "    <tr>\n",
       "      <th>10</th>\n",
       "      <td> 2014-11-18</td>\n",
       "      <td> 2</td>\n",
       "      <td>  84</td>\n",
       "    </tr>\n",
       "    <tr>\n",
       "      <th>11</th>\n",
       "      <td> 2014-12-08</td>\n",
       "      <td> 2</td>\n",
       "      <td>  86</td>\n",
       "    </tr>\n",
       "    <tr>\n",
       "      <th>12</th>\n",
       "      <td> 2014-12-09</td>\n",
       "      <td> 1</td>\n",
       "      <td>  96</td>\n",
       "    </tr>\n",
       "    <tr>\n",
       "      <th>13</th>\n",
       "      <td> 2014-12-12</td>\n",
       "      <td> 2</td>\n",
       "      <td>  98</td>\n",
       "    </tr>\n",
       "    <tr>\n",
       "      <th>14</th>\n",
       "      <td> 2014-12-24</td>\n",
       "      <td> 1</td>\n",
       "      <td> 108</td>\n",
       "    </tr>\n",
       "    <tr>\n",
       "      <th>15</th>\n",
       "      <td> 2015-02-20</td>\n",
       "      <td> 1</td>\n",
       "      <td> 118</td>\n",
       "    </tr>\n",
       "    <tr>\n",
       "      <th>16</th>\n",
       "      <td> 2015-03-28</td>\n",
       "      <td> 1</td>\n",
       "      <td> 128</td>\n",
       "    </tr>\n",
       "    <tr>\n",
       "      <th>17</th>\n",
       "      <td> 2015-04-26</td>\n",
       "      <td> 1</td>\n",
       "      <td> 138</td>\n",
       "    </tr>\n",
       "    <tr>\n",
       "      <th>18</th>\n",
       "      <td> 2015-05-05</td>\n",
       "      <td> 1</td>\n",
       "      <td> 148</td>\n",
       "    </tr>\n",
       "    <tr>\n",
       "      <th>19</th>\n",
       "      <td> 2015-05-26</td>\n",
       "      <td> 1</td>\n",
       "      <td> 158</td>\n",
       "    </tr>\n",
       "    <tr>\n",
       "      <th>20</th>\n",
       "      <td> 2015-05-27</td>\n",
       "      <td> 2</td>\n",
       "      <td> 178</td>\n",
       "    </tr>\n",
       "    <tr>\n",
       "      <th>21</th>\n",
       "      <td> 2015-07-03</td>\n",
       "      <td> 1</td>\n",
       "      <td> 188</td>\n",
       "    </tr>\n",
       "    <tr>\n",
       "      <th>22</th>\n",
       "      <td> 2015-07-22</td>\n",
       "      <td> 1</td>\n",
       "      <td> 298</td>\n",
       "    </tr>\n",
       "    <tr>\n",
       "      <th>23</th>\n",
       "      <td> 2015-08-21</td>\n",
       "      <td> 1</td>\n",
       "      <td> 308</td>\n",
       "    </tr>\n",
       "    <tr>\n",
       "      <th>24</th>\n",
       "      <td> 2015-09-07</td>\n",
       "      <td> 1</td>\n",
       "      <td> 318</td>\n",
       "    </tr>\n",
       "    <tr>\n",
       "      <th>25</th>\n",
       "      <td> 2015-10-14</td>\n",
       "      <td>-1</td>\n",
       "      <td> 317</td>\n",
       "    </tr>\n",
       "  </tbody>\n",
       "</table>\n",
       "</div>"
      ],
      "text/plain": [
       "          Date  Point_Change  Total_Score\n",
       "0   2012-08-30             5            6\n",
       "1   2012-12-11             1           16\n",
       "2   2013-03-20             1           26\n",
       "3   2014-03-19             2           28\n",
       "4   2014-05-11             2           30\n",
       "5   2014-05-12             1           42\n",
       "6   2014-06-12             1           52\n",
       "7   2014-06-26             1           62\n",
       "8   2014-09-03             1           72\n",
       "9   2014-11-14             1           82\n",
       "10  2014-11-18             2           84\n",
       "11  2014-12-08             2           86\n",
       "12  2014-12-09             1           96\n",
       "13  2014-12-12             2           98\n",
       "14  2014-12-24             1          108\n",
       "15  2015-02-20             1          118\n",
       "16  2015-03-28             1          128\n",
       "17  2015-04-26             1          138\n",
       "18  2015-05-05             1          148\n",
       "19  2015-05-26             1          158\n",
       "20  2015-05-27             2          178\n",
       "21  2015-07-03             1          188\n",
       "22  2015-07-22             1          298\n",
       "23  2015-08-21             1          308\n",
       "24  2015-09-07             1          318\n",
       "25  2015-10-14            -1          317"
      ]
     },
     "execution_count": 47,
     "metadata": {},
     "output_type": "execute_result"
    }
   ],
   "source": [
    "test"
   ]
  },
  {
   "cell_type": "code",
   "execution_count": 43,
   "metadata": {
    "collapsed": false
   },
   "outputs": [],
   "source": [
    "# create new Df using column slicing to reorder\n",
    "# testing to see if this works because the first dictionary I created for the assignment was re-ordered alphabetically by Pandas \n",
    "# and put the columns in an order that I didn't want.  \n",
    "new_test = test[['Total_Score', 'Date', 'Point_Change']]"
   ]
  },
  {
   "cell_type": "code",
   "execution_count": 45,
   "metadata": {
    "collapsed": false
   },
   "outputs": [],
   "source": [
    "# Alternative option to re-order feature columns by referecning the column index\n",
    "slice2 = test[[2,0,1]]"
   ]
  },
  {
   "cell_type": "code",
   "execution_count": 46,
   "metadata": {
    "collapsed": false
   },
   "outputs": [
    {
     "data": {
      "text/html": [
       "<div style=\"max-height:1000px;max-width:1500px;overflow:auto;\">\n",
       "<table border=\"1\" class=\"dataframe\">\n",
       "  <thead>\n",
       "    <tr style=\"text-align: right;\">\n",
       "      <th></th>\n",
       "      <th>Total_Score</th>\n",
       "      <th>Date</th>\n",
       "      <th>Point_Change</th>\n",
       "    </tr>\n",
       "  </thead>\n",
       "  <tbody>\n",
       "    <tr>\n",
       "      <th>0 </th>\n",
       "      <td>   6</td>\n",
       "      <td> 2012-08-30</td>\n",
       "      <td> 5</td>\n",
       "    </tr>\n",
       "    <tr>\n",
       "      <th>1 </th>\n",
       "      <td>  16</td>\n",
       "      <td> 2012-12-11</td>\n",
       "      <td> 1</td>\n",
       "    </tr>\n",
       "    <tr>\n",
       "      <th>2 </th>\n",
       "      <td>  26</td>\n",
       "      <td> 2013-03-20</td>\n",
       "      <td> 1</td>\n",
       "    </tr>\n",
       "    <tr>\n",
       "      <th>3 </th>\n",
       "      <td>  28</td>\n",
       "      <td> 2014-03-19</td>\n",
       "      <td> 2</td>\n",
       "    </tr>\n",
       "    <tr>\n",
       "      <th>4 </th>\n",
       "      <td>  30</td>\n",
       "      <td> 2014-05-11</td>\n",
       "      <td> 2</td>\n",
       "    </tr>\n",
       "    <tr>\n",
       "      <th>5 </th>\n",
       "      <td>  42</td>\n",
       "      <td> 2014-05-12</td>\n",
       "      <td> 1</td>\n",
       "    </tr>\n",
       "    <tr>\n",
       "      <th>6 </th>\n",
       "      <td>  52</td>\n",
       "      <td> 2014-06-12</td>\n",
       "      <td> 1</td>\n",
       "    </tr>\n",
       "    <tr>\n",
       "      <th>7 </th>\n",
       "      <td>  62</td>\n",
       "      <td> 2014-06-26</td>\n",
       "      <td> 1</td>\n",
       "    </tr>\n",
       "    <tr>\n",
       "      <th>8 </th>\n",
       "      <td>  72</td>\n",
       "      <td> 2014-09-03</td>\n",
       "      <td> 1</td>\n",
       "    </tr>\n",
       "    <tr>\n",
       "      <th>9 </th>\n",
       "      <td>  82</td>\n",
       "      <td> 2014-11-14</td>\n",
       "      <td> 1</td>\n",
       "    </tr>\n",
       "    <tr>\n",
       "      <th>10</th>\n",
       "      <td>  84</td>\n",
       "      <td> 2014-11-18</td>\n",
       "      <td> 2</td>\n",
       "    </tr>\n",
       "    <tr>\n",
       "      <th>11</th>\n",
       "      <td>  86</td>\n",
       "      <td> 2014-12-08</td>\n",
       "      <td> 2</td>\n",
       "    </tr>\n",
       "    <tr>\n",
       "      <th>12</th>\n",
       "      <td>  96</td>\n",
       "      <td> 2014-12-09</td>\n",
       "      <td> 1</td>\n",
       "    </tr>\n",
       "    <tr>\n",
       "      <th>13</th>\n",
       "      <td>  98</td>\n",
       "      <td> 2014-12-12</td>\n",
       "      <td> 2</td>\n",
       "    </tr>\n",
       "    <tr>\n",
       "      <th>14</th>\n",
       "      <td> 108</td>\n",
       "      <td> 2014-12-24</td>\n",
       "      <td> 1</td>\n",
       "    </tr>\n",
       "    <tr>\n",
       "      <th>15</th>\n",
       "      <td> 118</td>\n",
       "      <td> 2015-02-20</td>\n",
       "      <td> 1</td>\n",
       "    </tr>\n",
       "    <tr>\n",
       "      <th>16</th>\n",
       "      <td> 128</td>\n",
       "      <td> 2015-03-28</td>\n",
       "      <td> 1</td>\n",
       "    </tr>\n",
       "    <tr>\n",
       "      <th>17</th>\n",
       "      <td> 138</td>\n",
       "      <td> 2015-04-26</td>\n",
       "      <td> 1</td>\n",
       "    </tr>\n",
       "    <tr>\n",
       "      <th>18</th>\n",
       "      <td> 148</td>\n",
       "      <td> 2015-05-05</td>\n",
       "      <td> 1</td>\n",
       "    </tr>\n",
       "    <tr>\n",
       "      <th>19</th>\n",
       "      <td> 158</td>\n",
       "      <td> 2015-05-26</td>\n",
       "      <td> 1</td>\n",
       "    </tr>\n",
       "    <tr>\n",
       "      <th>20</th>\n",
       "      <td> 178</td>\n",
       "      <td> 2015-05-27</td>\n",
       "      <td> 2</td>\n",
       "    </tr>\n",
       "    <tr>\n",
       "      <th>21</th>\n",
       "      <td> 188</td>\n",
       "      <td> 2015-07-03</td>\n",
       "      <td> 1</td>\n",
       "    </tr>\n",
       "    <tr>\n",
       "      <th>22</th>\n",
       "      <td> 298</td>\n",
       "      <td> 2015-07-22</td>\n",
       "      <td> 1</td>\n",
       "    </tr>\n",
       "    <tr>\n",
       "      <th>23</th>\n",
       "      <td> 308</td>\n",
       "      <td> 2015-08-21</td>\n",
       "      <td> 1</td>\n",
       "    </tr>\n",
       "    <tr>\n",
       "      <th>24</th>\n",
       "      <td> 318</td>\n",
       "      <td> 2015-09-07</td>\n",
       "      <td> 1</td>\n",
       "    </tr>\n",
       "    <tr>\n",
       "      <th>25</th>\n",
       "      <td> 317</td>\n",
       "      <td> 2015-10-14</td>\n",
       "      <td>-1</td>\n",
       "    </tr>\n",
       "  </tbody>\n",
       "</table>\n",
       "</div>"
      ],
      "text/plain": [
       "    Total_Score        Date  Point_Change\n",
       "0             6  2012-08-30             5\n",
       "1            16  2012-12-11             1\n",
       "2            26  2013-03-20             1\n",
       "3            28  2014-03-19             2\n",
       "4            30  2014-05-11             2\n",
       "5            42  2014-05-12             1\n",
       "6            52  2014-06-12             1\n",
       "7            62  2014-06-26             1\n",
       "8            72  2014-09-03             1\n",
       "9            82  2014-11-14             1\n",
       "10           84  2014-11-18             2\n",
       "11           86  2014-12-08             2\n",
       "12           96  2014-12-09             1\n",
       "13           98  2014-12-12             2\n",
       "14          108  2014-12-24             1\n",
       "15          118  2015-02-20             1\n",
       "16          128  2015-03-28             1\n",
       "17          138  2015-04-26             1\n",
       "18          148  2015-05-05             1\n",
       "19          158  2015-05-26             1\n",
       "20          178  2015-05-27             2\n",
       "21          188  2015-07-03             1\n",
       "22          298  2015-07-22             1\n",
       "23          308  2015-08-21             1\n",
       "24          318  2015-09-07             1\n",
       "25          317  2015-10-14            -1"
      ]
     },
     "execution_count": 46,
     "metadata": {},
     "output_type": "execute_result"
    }
   ],
   "source": [
    "# inspect visually to make sure it worked\n",
    "slice2"
   ]
  }
 ],
 "metadata": {
  "kernelspec": {
   "display_name": "Python 2",
   "language": "python",
   "name": "python2"
  },
  "language_info": {
   "codemirror_mode": {
    "name": "ipython",
    "version": 2
   },
   "file_extension": ".py",
   "mimetype": "text/x-python",
   "name": "python",
   "nbconvert_exporter": "python",
   "pygments_lexer": "ipython2",
   "version": "2.7.8"
  }
 },
 "nbformat": 4,
 "nbformat_minor": 0
}
